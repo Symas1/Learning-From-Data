{
 "cells": [
  {
   "cell_type": "code",
   "execution_count": 8,
   "metadata": {},
   "outputs": [],
   "source": [
    "import numpy\n",
    "import matplotlib.pyplot\n",
    "%matplotlib inline"
   ]
  },
  {
   "cell_type": "code",
   "execution_count": 2,
   "metadata": {
    "collapsed": true
   },
   "outputs": [],
   "source": [
    "class Pocket_pla:\n",
    "    def __init__(self,dimensions,data_set_n,iterations):\n",
    "            self.d=dimensions\n",
    "            self.N=data_set_n\n",
    "            self.T=iterations\n",
    "            \n",
    "            self.randomize_target_line()\n",
    "            self.randomize_training_data()\n",
    "            self.spoil_training_data_answers()\n",
    "            \n",
    "            self.initialize_weights_vector()\n",
    "            self.train()\n",
    "            \n",
    "#             self.plot_everything()\n",
    "    \n",
    "    def train(self):\n",
    "        current_iteration = 0\n",
    "        start_random_idx = 0\n",
    "        while(current_iteration<self.T):\n",
    "            idx = numpy.random.randint(start_random_idx,len(self.training_data))\n",
    "            answer = numpy.sign(numpy.dot(self.weights.T,self.training_data[idx]))\n",
    "            answer = -1 if answer==0 or answer==-1 else 1\n",
    "            if(answer!=self.training_data_answers[idx]):\n",
    "                self.weights+=self.training_data_answers[idx]*self.training_data[idx]\n",
    "                current_iteration+=1\n",
    "                self.check_weights_performance()\n",
    "            else:\n",
    "                self.training_data[idx],self.training_data[start_random_idx]=self.training_data[start_random_idx], self.training_data[idx]\n",
    "                self.training_data_answers[idx],self.training_data_answers[start_random_idx]=self.training_data_answers[start_random_idx],self.training_data_answers[idx]\n",
    "                start_random_idx=(start_random_idx+1)%len(self.training_data)\n",
    "    \n",
    "    def check_weights_performance(self):\n",
    "        correct = 0.\n",
    "        for i in range(0,len(self.training_data)):\n",
    "            answer = numpy.sign(numpy.dot(self.weights.T,self.training_data[i]))\n",
    "            answer = -1 if answer==0 or answer==-1 else 1\n",
    "            if answer == self.training_data_answers[i]:\n",
    "                correct+=1\n",
    "        current_performance = (self.N-correct)/self.N\n",
    "        if current_performance < self.best_performance:\n",
    "            self.history_best_performance.append(current_performance)\n",
    "            self.history_performance.append(current_performance)\n",
    "            self.best_performance=current_performance\n",
    "            self.best_weights=self.weights\n",
    "        else:\n",
    "            self.history_performance.append(current_performance)\n",
    "            self.history_best_performance.append(self.best_performance)\n",
    "        self.check_e_out()\n",
    "    \n",
    "    def check_e_out(self):\n",
    "        tests=1000\n",
    "        wrong=0\n",
    "        for i in range(tests):\n",
    "            test_data=numpy.array([1]+numpy.random.uniform(-1,1,2).tolist(),ndmin=2).T\n",
    "            correct_answer = self.training_data_point_position(test_data[1],test_data[2])\n",
    "            answer = self.query(test_data)\n",
    "            if answer!=correct_answer:\n",
    "                wrong+=1\n",
    "        performance = wrong/tests\n",
    "        if performance < self.best_e_out:\n",
    "            self.history_e_out.append(performance)\n",
    "            self.history_best_e_out.append(performance)\n",
    "            self.best_e_out=performance\n",
    "        else:\n",
    "            self.history_e_out.append(performance)\n",
    "            self.history_best_e_out.append(self.best_e_out)\n",
    "            \n",
    "    def query(self,data):\n",
    "        result = numpy.sign(numpy.dot(self.weights.T,data))\n",
    "        return -1 if result == 0 or result == -1 else 1\n",
    "    \n",
    "    def query_best_weights(self,data):\n",
    "        result = numpy.sign(numpy.dot(self.best_weights.T,data))\n",
    "        return -1 if result == 0 or result == -1 else 1\n",
    "    \n",
    "    def initialize_weights_vector(self):\n",
    "        self.weights=numpy.zeros((self.d+1,1))\n",
    "        self.best_weights=[]\n",
    "        self.best_performance=1.\n",
    "        \n",
    "        self.history_best_performance=[]\n",
    "        self.history_performance=[]\n",
    "        \n",
    "        self.best_e_out=1.\n",
    "        self.history_e_out=[]\n",
    "        self.history_best_e_out=[]\n",
    "        \n",
    "        self.check_weights_performance()\n",
    "             \n",
    "    def randomize_target_line(self):\n",
    "        points_positions=[]\n",
    "        for i in range(self.d):\n",
    "            new_values = numpy.random.uniform(-1,1,2)\n",
    "            points_positions.append(new_values)\n",
    "        polynomial = numpy.polyfit(points_positions[0],points_positions[1],1)\n",
    "        self.target_line_polynomial = numpy.poly1d(polynomial)\n",
    "        \n",
    "    def randomize_training_data(self):\n",
    "        self.training_data=[]\n",
    "        self.training_data_answers=[]\n",
    "        for i in range(self.N):\n",
    "            self.training_data.append(numpy.array([1]+numpy.random.uniform(-1,1,self.d).tolist(),ndmin=2).T)\n",
    "            self.training_data_answers.append(self.training_data_point_position(self.training_data[-1][1],self.training_data[-1][2]))\n",
    "    \n",
    "    def training_data_point_position(self,x,y):\n",
    "        real_y = self.target_line_polynomial(x)\n",
    "        return 1 if real_y < y else -1\n",
    "    \n",
    "    def spoil_training_data_answers(self):\n",
    "        for i in range(int(self.N/10)):\n",
    "            index=numpy.random.randint(0,len(self.training_data_answers))\n",
    "            self.training_data_answers[index]=-self.training_data_answers[index]\n",
    "    \n",
    "    def plot_everything(self):\n",
    "        self.plot_target_line()\n",
    "        self.plot_training_data_points()\n",
    "        self.plot_set_settings()\n",
    "        matplotlib.pyplot.show()\n",
    "        \n",
    "    def plot_target_line(self):\n",
    "        x_points = numpy.linspace(-1,1,100)\n",
    "        y_points = self.target_line_polynomial(x_points)\n",
    "        matplotlib.pyplot.plot(x_points,y_points,label='Target')\n",
    "        \n",
    "    def plot_training_data_points(self):\n",
    "        for i in range (len(self.training_data)):\n",
    "            if(self.training_data_answers[i]==1):\n",
    "                matplotlib.pyplot.plot(self.training_data[i][1][0],self.training_data[i][2][0],'g.')\n",
    "            else:\n",
    "                matplotlib.pyplot.plot(self.training_data[i][1][0],self.training_data[i][2][0],'r.')\n",
    "    \n",
    "    def plot_set_settings(self):\n",
    "        matplotlib.pyplot.axis([-1,1,-1,1])\n",
    "        matplotlib.pyplot.ylabel(\"x2\")\n",
    "        matplotlib.pyplot.xlabel(\"x1\")\n",
    "        matplotlib.pyplot.legend()\n"
   ]
  },
  {
   "cell_type": "code",
   "execution_count": 3,
   "metadata": {},
   "outputs": [
    {
     "name": "stdout",
     "output_type": "stream",
     "text": [
      "0\n",
      "1\n",
      "2\n",
      "3\n",
      "4\n",
      "5\n",
      "6\n",
      "7\n",
      "8\n",
      "9\n",
      "10\n",
      "11\n",
      "12\n",
      "13\n",
      "14\n",
      "15\n",
      "16\n",
      "17\n",
      "18\n",
      "19\n"
     ]
    }
   ],
   "source": [
    "N=100\n",
    "d=2\n",
    "T=1000\n",
    "cycles=20\n",
    "hist_performance=[0]*(T+1)\n",
    "hist_best_performance=[0]*(T+1)\n",
    "hist_e_out=[0]*(T+1)\n",
    "hist_best_e_out=[0]*(T+1)\n",
    "for i in range(cycles):\n",
    "    print(i)\n",
    "    a = Pocket_pla(d,N,T)\n",
    "    hist_performance=[hist_performance[x]+a.history_performance[x] for x in range(0,len(hist_performance))]\n",
    "    hist_best_performance=[hist_best_performance[x]+a.history_best_performance[x] for x in range(0,len(hist_best_performance))]\n",
    "    hist_e_out=[hist_e_out[x]+a.history_e_out[x]for x in range(0,len(hist_e_out))]\n",
    "    hist_best_e_out=[hist_best_e_out[x]+a.history_best_e_out[x]for x in range(0,len(hist_best_e_out))]\n",
    "hist_performance=[x/cycles for x in hist_performance]\n",
    "hist_best_performance=[x/cycles for x in hist_best_performance]\n",
    "hist_e_out=[x/cycles for x in hist_e_out]\n",
    "hist_best_e_out=[x/cycles for x in hist_best_e_out]"
   ]
  },
  {
   "cell_type": "code",
   "execution_count": 11,
   "metadata": {},
   "outputs": [
    {
     "name": "stdout",
     "output_type": "stream",
     "text": [
      "Using matplotlib backend: Qt5Agg\n"
     ]
    }
   ],
   "source": [
    "%matplotlib\n",
    "matplotlib.pyplot.axis([0,T+1,0,1])\n",
    "matplotlib.pyplot.plot(numpy.linspace(0,T+1,T+1),hist_performance,'r')\n",
    "matplotlib.pyplot.plot(numpy.linspace(0,T+1,T+1),hist_best_performance,'g')\n",
    "matplotlib.pyplot.show()\n",
    "# %matplotlib inline"
   ]
  },
  {
   "cell_type": "code",
   "execution_count": 12,
   "metadata": {},
   "outputs": [
    {
     "name": "stdout",
     "output_type": "stream",
     "text": [
      "Using matplotlib backend: Qt5Agg\n"
     ]
    }
   ],
   "source": [
    "%matplotlib\n",
    "matplotlib.pyplot.axis([0,T+1,0,1])\n",
    "matplotlib.pyplot.plot(numpy.linspace(0,T+1,T+1),hist_e_out,'r')\n",
    "matplotlib.pyplot.plot(numpy.linspace(0,T+1,T+1),hist_best_e_out,'g')\n",
    "matplotlib.pyplot.show()\n",
    "import matplotlib.pyplot"
   ]
  },
  {
   "cell_type": "code",
   "execution_count": null,
   "metadata": {
    "collapsed": true
   },
   "outputs": [],
   "source": [
    "In this program Ein and Eout only added to array if wrong clasification of training data occured. It is also possible to \n",
    "add these values to arrays during every iteration. In this case our graph will not be that much jagged it will have flat lines.\n",
    "Flat line happens when no weight update occurs"
   ]
  }
 ],
 "metadata": {
  "kernelspec": {
   "display_name": "Python 3",
   "language": "python",
   "name": "python3"
  },
  "language_info": {
   "codemirror_mode": {
    "name": "ipython",
    "version": 3
   },
   "file_extension": ".py",
   "mimetype": "text/x-python",
   "name": "python",
   "nbconvert_exporter": "python",
   "pygments_lexer": "ipython3",
   "version": "3.6.3"
  }
 },
 "nbformat": 4,
 "nbformat_minor": 2
}
