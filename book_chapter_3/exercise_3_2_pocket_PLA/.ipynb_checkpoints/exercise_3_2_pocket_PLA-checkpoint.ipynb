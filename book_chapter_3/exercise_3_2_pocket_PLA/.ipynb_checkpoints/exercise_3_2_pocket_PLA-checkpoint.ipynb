{
 "cells": [
  {
   "cell_type": "code",
   "execution_count": 1,
   "metadata": {
    "collapsed": true
   },
   "outputs": [],
   "source": [
    "import numpy\n",
    "import matplotlib.pyplot"
   ]
  },
  {
   "cell_type": "code",
   "execution_count": 373,
   "metadata": {},
   "outputs": [
    {
     "ename": "SyntaxError",
     "evalue": "invalid syntax (<ipython-input-373-1601c5d55859>, line 21)",
     "output_type": "error",
     "traceback": [
      "\u001b[1;36m  File \u001b[1;32m\"<ipython-input-373-1601c5d55859>\"\u001b[1;36m, line \u001b[1;32m21\u001b[0m\n\u001b[1;33m    answer = -1 if answer==0 || answer==-1 else 1\u001b[0m\n\u001b[1;37m                              ^\u001b[0m\n\u001b[1;31mSyntaxError\u001b[0m\u001b[1;31m:\u001b[0m invalid syntax\n"
     ]
    }
   ],
   "source": [
    "class Pocket_pla:\n",
    "    def __init__(self,dimensions,data_set_n,iterations):\n",
    "            self.d=dimensions\n",
    "            self.N=data_set_n\n",
    "            self.T=iterations\n",
    "            \n",
    "            self.randomize_target_line()\n",
    "            self.randomize_training_data()\n",
    "            self.spoil_training_data_answers()\n",
    "            \n",
    "            self.initialize_weights_vector()\n",
    "            \n",
    "            self.plot_everything()\n",
    "    \n",
    "    def train(self):\n",
    "        current_iteration = 0\n",
    "        start_random_idx = 0\n",
    "        while(current_iteration<self.iterations):\n",
    "            idx = numpy.random.randint(start_random_idx,len(self.training_data))\n",
    "            answer = numpy.sign(numpy.dot(self.weights.T,self.training_data[idx]))\n",
    "            answer = -1 if answer==0 || answer==-1 else 1\n",
    "            if(answer!=self.training_data_answers[idx]):\n",
    "                self.weights+=self.training_data_answers[idx]*self.training_data[idx]\n",
    "                current_iteration+=1\n",
    "            else:\n",
    "                self.training_data[idx],self.training_data[start_random_idx]=self.training_data[start_random_idx], self.training_data[idx]\n",
    "                self.training_data_answers[idx],self.training_data_answers[start_random_idx]=self.training_data_answers[start_random_idx],self.training_data_answers[idx]\n",
    "                start_random_idx=(start_random_idx+1)%len(self.training_data)\n",
    "    \n",
    "    def check_weights_performance(self):\n",
    "        correct = 0\n",
    "        for i in range(0,len(self.training_data)):\n",
    "            answer = numpy.sing(numpy.dot(self.weights.T,self.training_data[i]))\n",
    "            answer = -1 if answer==0 || answer==-1 else 1\n",
    "            if answer == self.training_data_answers[i]:\n",
    "                correct+=1\n",
    "        current_performance = correct/self.N\n",
    "        if current_performance > self.performance:\n",
    "            self.performance=current_performance\n",
    "            self.best_weights=self.weights\n",
    "    \n",
    "    def initialize_weights_vector(self):\n",
    "        self.weights=numpy.zeros((self.d+1,1))\n",
    "        self.best_weights=self.weights\n",
    "        self.performance=0\n",
    "        self.check_weights_performance()\n",
    "    \n",
    "    def randomize_target_line(self):\n",
    "        points_positions=[]\n",
    "        for i in range(self.d):\n",
    "            new_values = numpy.random.uniform(-1,1,2)\n",
    "            points_positions.append(new_values)\n",
    "        polynomial = numpy.polyfit(points_positions[0],points_positions[1],1)\n",
    "        self.target_line_polynomial = numpy.poly1d(polynomial)\n",
    "        \n",
    "    def randomize_training_data(self):\n",
    "        self.training_data=[]\n",
    "        self.training_data_answers=[]\n",
    "        for i in range(self.N):\n",
    "            self.training_data.append(numpy.array([1]+numpy.random.uniform(-1,1,self.d).tolist(),ndmin=2).T)\n",
    "            self.training_data_answers.append(self.training_data_point_position(self.training_data[-1][1],self.training_data[-1][2]))\n",
    "    \n",
    "    def training_data_point_position(self,x,y):\n",
    "        real_y = self.target_line_polynomial(x)\n",
    "        return 1 if real_y < y else -1\n",
    "    \n",
    "    def spoil_training_data_answers(self):\n",
    "        for i in range(int(self.N/10)):\n",
    "            index=numpy.random.randint(0,len(self.training_data_answers))\n",
    "            self.training_data_answers[index]=-self.training_data_answers[index]\n",
    "    \n",
    "    def plot_everything(self):\n",
    "        self.plot_target_line()\n",
    "        self.plot_training_data_points()\n",
    "        self.plot_set_settings()\n",
    "        matplotlib.pyplot.show()\n",
    "        \n",
    "    def plot_target_line(self):\n",
    "        x_points = numpy.linspace(-1,1,100)\n",
    "        y_points = self.target_line_polynomial(x_points)\n",
    "        matplotlib.pyplot.plot(x_points,y_points,label='Target')\n",
    "        \n",
    "    def plot_training_data_points(self):\n",
    "        for i in range (len(self.training_data)):\n",
    "            if(self.training_data_answers[i]==1):\n",
    "                matplotlib.pyplot.plot(self.training_data[i][1][0],self.training_data[i][2][0],'g.')\n",
    "            else:\n",
    "                matplotlib.pyplot.plot(self.training_data[i][1][0],self.training_data[i][2][0],'r.')\n",
    "    \n",
    "    def plot_set_settings(self):\n",
    "        matplotlib.pyplot.axis([-1,1,-1,1])\n",
    "        matplotlib.pyplot.ylabel(\"x2\")\n",
    "        matplotlib.pyplot.xlabel(\"x1\")\n",
    "        matplotlib.pyplot.legend()"
   ]
  },
  {
   "cell_type": "code",
   "execution_count": 372,
   "metadata": {},
   "outputs": [
    {
     "data": {
      "image/png": "[encoded data removed]",
      "text/plain": [
       "<matplotlib.figure.Figure at 0x22cb9516ef0>"
      ]
     },
     "metadata": {},
     "output_type": "display_data"
    }
   ],
   "source": [
    "N=100\n",
    "d=2\n",
    "T=1000\n",
    "a = Pocket_pla(d,N,T)"
   ]
  },
  {
   "cell_type": "code",
   "execution_count": 386,
   "metadata": {},
   "outputs": [
    {
     "name": "stdout",
     "output_type": "stream",
     "text": [
      "[2, 1]\n"
     ]
    }
   ],
   "source": [
    "a=[1,2]\n",
    "a[0],a[1]=a[1],a[0]\n",
    "print(a)"
   ]
  }
 ],
 "metadata": {
  "kernelspec": {
   "display_name": "Python 3",
   "language": "python",
   "name": "python3"
  },
  "language_info": {
   "codemirror_mode": {
    "name": "ipython",
    "version": 3
   },
   "file_extension": ".py",
   "mimetype": "text/x-python",
   "name": "python",
   "nbconvert_exporter": "python",
   "pygments_lexer": "ipython3",
   "version": "3.6.3"
  }
 },
 "nbformat": 4,
 "nbformat_minor": 2
}
