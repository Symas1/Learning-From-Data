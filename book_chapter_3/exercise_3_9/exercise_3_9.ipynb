{
 "cells": [
  {
   "cell_type": "code",
   "execution_count": 18,
   "metadata": {},
   "outputs": [
    {
     "name": "stdout",
     "output_type": "stream",
     "text": [
      "Using matplotlib backend: Qt5Agg\n"
     ]
    }
   ],
   "source": [
    "import numpy as np\n",
    "import matplotlib.pyplot as plt\n",
    "from scipy.special import expit\n",
    "%matplotlib"
   ]
  },
  {
   "cell_type": "code",
   "execution_count": 22,
   "metadata": {},
   "outputs": [],
   "source": [
    "set_size=300\n",
    "errors = int(set_size*0.5)\n",
    "y=np.ones(set_size)\n",
    "s=np.random.uniform(0,100,set_size)\n",
    "for i in range(errors):\n",
    "    idx = np.random.randint(0,len(y))\n",
    "    s[idx]=-s[idx]    \n",
    " \n",
    "for i in range(len(y)):\n",
    "    if(np.sign(s[i])!=y[i]):\n",
    "        plt.plot(s[i],1,'r.')\n",
    "    \n",
    "    plt.plot(s[i],(y[i]-s[i])**2,'y.')\n",
    "    plt.plot(s[i],(1/np.log(2))*np.log(1+np.exp(-s[i]*y[i])),'g.')\n",
    "\n",
    "plt.show()"
   ]
  }
 ],
 "metadata": {
  "kernelspec": {
   "display_name": "Python 3",
   "language": "python",
   "name": "python3"
  },
  "language_info": {
   "codemirror_mode": {
    "name": "ipython",
    "version": 3
   },
   "file_extension": ".py",
   "mimetype": "text/x-python",
   "name": "python",
   "nbconvert_exporter": "python",
   "pygments_lexer": "ipython3",
   "version": "3.6.3"
  }
 },
 "nbformat": 4,
 "nbformat_minor": 2
}
