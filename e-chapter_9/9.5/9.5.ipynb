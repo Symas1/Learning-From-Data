{
 "cells": [
  {
   "cell_type": "code",
   "execution_count": 107,
   "metadata": {
    "collapsed": true
   },
   "outputs": [],
   "source": [
    "import numpy as np\n",
    "import math"
   ]
  },
  {
   "cell_type": "code",
   "execution_count": 95,
   "metadata": {
    "collapsed": true
   },
   "outputs": [],
   "source": [
    "def nearest_neighbour_g_x(X, Y, x_test):\n",
    "    min_dist = float('inf')\n",
    "    min_idx = -1\n",
    "    for i in range(len(X)):\n",
    "        dist = np.linalg.norm(np.subtract(X[i],x_test))\n",
    "        if dist < min_dist:\n",
    "            min_dist = dist\n",
    "            min_idx=i\n",
    "    return Y[min_idx]"
   ]
  },
  {
   "cell_type": "code",
   "execution_count": 123,
   "metadata": {},
   "outputs": [
    {
     "name": "stdout",
     "output_type": "stream",
     "text": [
      "Chance of correct classification:  0.58432\n",
      "Book chance of correct classification:  0.6\n"
     ]
    }
   ],
   "source": [
    "tests = 200000\n",
    "d = 100\n",
    "possible_values = [-1, 1]\n",
    "correct_classifications = 0\n",
    "\n",
    "x_test = np.array([-1]*(d+1),ndmin=2).T\n",
    "for i in range(tests):\n",
    "    x1 = np.array([[-1] + np.random.choice(possible_values, d).tolist()]).T\n",
    "    x2 = np.array([[1] + np.random.choice(possible_values, d).tolist()]).T\n",
    "    X = [x1,x2]\n",
    "    Y = np.array([[1]+[-1]]).T\n",
    "    if nearest_neighbour_g_x(X, Y, x_test) == Y[0][0]:\n",
    "        correct_classifications +=1\n",
    "\n",
    "print('Chance of correct classification: ',correct_classifications/tests)\n",
    "print('Book chance of correct classification: ',1/2 + 1/math.sqrt(d))"
   ]
  },
  {
   "cell_type": "code",
   "execution_count": 128,
   "metadata": {},
   "outputs": [
    {
     "name": "stdout",
     "output_type": "stream",
     "text": [
      "Chance of correct classification:  0.422595\n"
     ]
    }
   ],
   "source": [
    "tests = 200000\n",
    "d = 100\n",
    "possible_values = [-1, 1]\n",
    "correct_classifications = 0\n",
    "\n",
    "x_test = np.array([-1]*(d+1),ndmin=2).T\n",
    "for i in range(tests):\n",
    "    x1 = np.array([[-1] + np.random.choice(possible_values, d).tolist()]).T\n",
    "    x2 = np.array([[1] + np.random.choice(possible_values, d).tolist()]).T\n",
    "    x3 = np.array([[1] + np.random.choice(possible_values, d).tolist()]).T\n",
    "    X = [x1,x2,x3]\n",
    "    Y = np.array([[1]+[-1,-1]]).T\n",
    "    if nearest_neighbour_g_x(X, Y, x_test) == Y[0][0]:\n",
    "        correct_classifications +=1\n",
    "\n",
    "print('Chance of correct classification: ',correct_classifications/tests)"
   ]
  },
  {
   "cell_type": "code",
   "execution_count": null,
   "metadata": {
    "collapsed": true
   },
   "outputs": [],
   "source": [
    "# The results show that as we have more and more spurious dimensions\n",
    "# the learned final hypothesis becomes useless because it is dominated by the random\n",
    "# fluctuations in these spurious dimensions"
   ]
  }
 ],
 "metadata": {
  "kernelspec": {
   "display_name": "Python 3",
   "language": "python",
   "name": "python3"
  },
  "language_info": {
   "codemirror_mode": {
    "name": "ipython",
    "version": 3
   },
   "file_extension": ".py",
   "mimetype": "text/x-python",
   "name": "python",
   "nbconvert_exporter": "python",
   "pygments_lexer": "ipython3",
   "version": "3.6.3"
  }
 },
 "nbformat": 4,
 "nbformat_minor": 2
}
