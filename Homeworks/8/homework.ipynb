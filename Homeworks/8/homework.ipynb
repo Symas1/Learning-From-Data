{
 "cells": [
  {
   "cell_type": "code",
   "execution_count": null,
   "metadata": {
    "collapsed": true
   },
   "outputs": [],
   "source": [
    "# LIBSVM was used for the purposes of the homework\n",
    "# COPYRIGHT file for LIBSVM is included"
   ]
  },
  {
   "cell_type": "code",
   "execution_count": 1,
   "metadata": {
    "collapsed": true
   },
   "outputs": [],
   "source": [
    "from svmutil import *"
   ]
  },
  {
   "cell_type": "code",
   "execution_count": 2,
   "metadata": {
    "collapsed": true
   },
   "outputs": [],
   "source": [
    "def read_file(file_name, main_digit, main_digit_y, other_digit_y):\n",
    "    X = []\n",
    "    Y = []\n",
    "    with open(file_name) as file:\n",
    "        for line in file:\n",
    "            line = tuple(map(float,line.split()))\n",
    "            if(int(line[0])==main_digit):\n",
    "                Y.append(main_digit_y)\n",
    "            else:\n",
    "                Y.append(other_digit_y)\n",
    "            x_row = {}\n",
    "            for i in range(1,len(line)):\n",
    "                if(line[i]!=0):\n",
    "                    x_row[int(i)] = line[i]\n",
    "            X.append(x_row)\n",
    "    return Y, X"
   ]
  },
  {
   "cell_type": "code",
   "execution_count": 3,
   "metadata": {
    "collapsed": true
   },
   "outputs": [],
   "source": [
    "main_digit_y = 1\n",
    "other_digit_y = -1"
   ]
  },
  {
   "cell_type": "code",
   "execution_count": 10,
   "metadata": {},
   "outputs": [
    {
     "name": "stdout",
     "output_type": "stream",
     "text": [
      "Accuracy = 83.6236% (6097/7291) (classification)\n",
      "E_in for  0  versus all:  16.37635440954601 %\n",
      "Number of support vectors:  2390\n",
      "Accuracy = 98.4227% (7176/7291) (classification)\n",
      "E_in for  1  versus all:  1.5772870662460576 %\n",
      "Number of support vectors:  536\n",
      "Accuracy = 89.9739% (6560/7291) (classification)\n",
      "E_in for  2  versus all:  10.02605952544232 %\n",
      "Number of support vectors:  1463\n",
      "Accuracy = 90.9752% (6633/7291) (classification)\n",
      "E_in for  3  versus all:  9.024825126868748 %\n",
      "Number of support vectors:  1318\n",
      "Accuracy = 91.0575% (6639/7291) (classification)\n",
      "E_in for  4  versus all:  8.942531888629816 %\n",
      "Number of support vectors:  1304\n",
      "Accuracy = 92.3742% (6735/7291) (classification)\n",
      "E_in for  5  versus all:  7.625840076807023 %\n",
      "Number of support vectors:  1117\n",
      "Accuracy = 90.8929% (6627/7291) (classification)\n",
      "E_in for  6  versus all:  9.107118365107667 %\n",
      "Number of support vectors:  1330\n",
      "Accuracy = 91.1535% (6646/7291) (classification)\n",
      "E_in for  7  versus all:  8.846523110684402 %\n",
      "Number of support vectors:  1293\n",
      "Accuracy = 92.5662% (6749/7291) (classification)\n",
      "E_in for  8  versus all:  7.433822520916195 %\n",
      "Number of support vectors:  1085\n",
      "Accuracy = 91.1672% (6647/7291) (classification)\n",
      "E_in for  9  versus all:  8.83280757097792 %\n",
      "Number of support vectors:  1290\n"
     ]
    }
   ],
   "source": [
    "# 2, 3\n",
    "main_digits = [0, 1, 2, 3, 4, 5, 6, 7, 8, 9]\n",
    "parameters = '-t 1 -d 2 -c 0.01'\n",
    "for digit in main_digits:\n",
    "    y, x = read_file('features.train',digit,main_digit_y,other_digit_y)\n",
    "    model = svm_train(y, x, parameters)\n",
    "    p_labels, p_acc, p_vals = svm_predict(y, x, model)\n",
    "    print('E_in for ',digit,' versus all: ', 100-p_acc[0],'%')\n",
    "    print('Number of support vectors: ', model.get_nr_sv())"
   ]
  },
  {
   "cell_type": "code",
   "execution_count": 128,
   "metadata": {
    "collapsed": true
   },
   "outputs": [],
   "source": [
    "y, x = svm_read_problem('a1a.train')\n",
    "m = svm_train(y,x,'-c 0.1')\n",
    "# y, x = svm_read_problem('features.test')\n",
    "# p_label, p_acc, p_val = svm_predict(y,x,m)"
   ]
  }
 ],
 "metadata": {
  "kernelspec": {
   "display_name": "Python 3",
   "language": "python",
   "name": "python3"
  },
  "language_info": {
   "codemirror_mode": {
    "name": "ipython",
    "version": 3
   },
   "file_extension": ".py",
   "mimetype": "text/x-python",
   "name": "python",
   "nbconvert_exporter": "python",
   "pygments_lexer": "ipython3",
   "version": "3.6.3"
  }
 },
 "nbformat": 4,
 "nbformat_minor": 2
}
