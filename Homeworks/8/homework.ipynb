{
 "cells": [
  {
   "cell_type": "code",
   "execution_count": null,
   "metadata": {
    "collapsed": true
   },
   "outputs": [],
   "source": [
    "# LIBSVM was used for the purposes of the homework\n",
    "# COPYRIGHT file for LIBSVM is included"
   ]
  },
  {
   "cell_type": "code",
   "execution_count": 77,
   "metadata": {
    "collapsed": true
   },
   "outputs": [],
   "source": [
    "from svmutil import *\n",
    "from IPython.display import clear_output"
   ]
  },
  {
   "cell_type": "code",
   "execution_count": 44,
   "metadata": {
    "collapsed": true
   },
   "outputs": [],
   "source": [
    "def read_file(file_name, main_digit,other_digits, main_digit_y, other_digit_y):\n",
    "    X = []\n",
    "    Y = []\n",
    "    with open(file_name) as file:\n",
    "        for line in file:\n",
    "            line = tuple(map(float,line.split()))\n",
    "            if(int(line[0])==main_digit):\n",
    "                Y.append(main_digit_y)\n",
    "            elif(int(line[0]) in other_digits):\n",
    "                Y.append(other_digit_y)\n",
    "            else:\n",
    "                continue\n",
    "            x_row = {}\n",
    "            for i in range(1,len(line)):\n",
    "                if(line[i]!=0):\n",
    "                    x_row[int(i)] = line[i]\n",
    "            X.append(x_row)\n",
    "    return Y, X"
   ]
  },
  {
   "cell_type": "code",
   "execution_count": 45,
   "metadata": {
    "collapsed": true
   },
   "outputs": [],
   "source": [
    "main_digit_y = 1\n",
    "other_digit_y = -1"
   ]
  },
  {
   "cell_type": "code",
   "execution_count": 41,
   "metadata": {},
   "outputs": [
    {
     "name": "stdout",
     "output_type": "stream",
     "text": [
      "Accuracy = 84.7895% (6182/7291) (classification)\n",
      "E_in for  0  versus all:  15.210533534494587 %\n",
      "Number of support vectors:  2391\n",
      "Accuracy = 98.5462% (7185/7291) (classification)\n",
      "E_in for  1  versus all:  1.453847208887666 %\n",
      "Number of support vectors:  482\n",
      "Accuracy = 89.9739% (6560/7291) (classification)\n",
      "E_in for  2  versus all:  10.02605952544232 %\n",
      "Number of support vectors:  1468\n",
      "Accuracy = 90.9752% (6633/7291) (classification)\n",
      "E_in for  3  versus all:  9.024825126868748 %\n",
      "Number of support vectors:  1328\n",
      "Accuracy = 91.0575% (6639/7291) (classification)\n",
      "E_in for  4  versus all:  8.942531888629816 %\n",
      "Number of support vectors:  1307\n",
      "Accuracy = 92.3742% (6735/7291) (classification)\n",
      "E_in for  5  versus all:  7.625840076807023 %\n",
      "Number of support vectors:  1118\n",
      "Accuracy = 90.8929% (6627/7291) (classification)\n",
      "E_in for  6  versus all:  9.107118365107667 %\n",
      "Number of support vectors:  1334\n",
      "Accuracy = 91.1535% (6646/7291) (classification)\n",
      "E_in for  7  versus all:  8.846523110684402 %\n",
      "Number of support vectors:  1302\n",
      "Accuracy = 92.5662% (6749/7291) (classification)\n",
      "E_in for  8  versus all:  7.433822520916195 %\n",
      "Number of support vectors:  1098\n",
      "Accuracy = 91.1672% (6647/7291) (classification)\n",
      "E_in for  9  versus all:  8.83280757097792 %\n",
      "Number of support vectors:  1294\n"
     ]
    }
   ],
   "source": [
    "# 2, 3\n",
    "main_digits = [0, 1, 2, 3, 4, 5, 6, 7, 8, 9]\n",
    "other_digits = {0, 1, 2, 3, 4, 5, 6, 7, 8, 9}\n",
    "parameters = '-t 1 -d 2 -r 1 -c 0.01'\n",
    "for digit in main_digits:\n",
    "    other_digits.remove(digit)\n",
    "    y, x = read_file('features.train',digit,other_digits,main_digit_y,other_digit_y)\n",
    "    other_digits.add(digit)\n",
    "    \n",
    "    model = svm_train(y, x, parameters)\n",
    "    p_labels, p_acc, p_vals = svm_predict(y, x, model)\n",
    "    print('E_in for ',digit,' versus all: ', 100-p_acc[0],'%')\n",
    "    print('Number of support vectors: ', model.get_nr_sv())"
   ]
  },
  {
   "cell_type": "code",
   "execution_count": 42,
   "metadata": {
    "scrolled": true
   },
   "outputs": [
    {
     "name": "stdout",
     "output_type": "stream",
     "text": [
      "Accuracy = 99.3594% (1551/1561) (classification)\n",
      "E_in for digit:  1  versus:  5 0.6406149903907732 %\n",
      "Accuracy = 98.1132% (416/424) (classification)\n",
      "E_out for digit:  1  versus:  5 1.8867924528301927 %\n",
      "Number of support vectors:  142\n",
      "Parameters  -t 1 -d 2 -r 1 -c 0.001 \n",
      "\n",
      "\n",
      "Accuracy = 99.5516% (1554/1561) (classification)\n",
      "E_in for digit:  1  versus:  5 0.44843049327354834 %\n",
      "Accuracy = 98.1132% (416/424) (classification)\n",
      "E_out for digit:  1  versus:  5 1.8867924528301927 %\n",
      "Number of support vectors:  52\n",
      "Parameters  -t 1 -d 2 -r 1 -c 0.01 \n",
      "\n",
      "\n",
      "Accuracy = 99.5516% (1554/1561) (classification)\n",
      "E_in for digit:  1  versus:  5 0.44843049327354834 %\n",
      "Accuracy = 97.8774% (415/424) (classification)\n",
      "E_out for digit:  1  versus:  5 2.1226415094339615 %\n",
      "Number of support vectors:  28\n",
      "Parameters  -t 1 -d 2 -r 1 -c 0.1 \n",
      "\n",
      "\n",
      "Accuracy = 99.6156% (1555/1561) (classification)\n",
      "E_in for digit:  1  versus:  5 0.3843689942344639 %\n",
      "Accuracy = 98.1132% (416/424) (classification)\n",
      "E_out for digit:  1  versus:  5 1.8867924528301927 %\n",
      "Number of support vectors:  24\n",
      "Parameters  -t 1 -d 2 -r 1 -c 1 \n",
      "\n",
      "\n",
      "Accuracy = 99.5516% (1554/1561) (classification)\n",
      "E_in for digit:  1  versus:  5 0.44843049327354834 %\n",
      "Accuracy = 98.1132% (416/424) (classification)\n",
      "E_out for digit:  1  versus:  5 1.8867924528301927 %\n",
      "Number of support vectors:  26\n",
      "Parameters  -t 1 -d 5 -r 1 -c 0.001 \n",
      "\n",
      "\n",
      "Accuracy = 99.6156% (1555/1561) (classification)\n",
      "E_in for digit:  1  versus:  5 0.3843689942344639 %\n",
      "Accuracy = 97.6415% (414/424) (classification)\n",
      "E_out for digit:  1  versus:  5 2.35849056603773 %\n",
      "Number of support vectors:  25\n",
      "Parameters  -t 1 -d 5 -r 1 -c 0.01 \n",
      "\n",
      "\n",
      "Accuracy = 99.6156% (1555/1561) (classification)\n",
      "E_in for digit:  1  versus:  5 0.3843689942344639 %\n",
      "Accuracy = 97.8774% (415/424) (classification)\n",
      "E_out for digit:  1  versus:  5 2.1226415094339615 %\n",
      "Number of support vectors:  23\n",
      "Parameters  -t 1 -d 5 -r 1 -c 0.1 \n",
      "\n",
      "\n",
      "Accuracy = 99.6797% (1556/1561) (classification)\n",
      "E_in for digit:  1  versus:  5 0.3203074951953937 %\n",
      "Accuracy = 98.1132% (416/424) (classification)\n",
      "E_out for digit:  1  versus:  5 1.8867924528301927 %\n",
      "Number of support vectors:  27\n",
      "Parameters  -t 1 -d 5 -r 1 -c 1 \n",
      "\n",
      "\n"
     ]
    }
   ],
   "source": [
    "# 5, 6\n",
    "main_digit = 1\n",
    "other_digit = {5}\n",
    "Q = [2, 5]\n",
    "C = [0.001, 0.01, 0.1, 1]\n",
    "\n",
    "y, x = read_file('features.train', main_digit, other_digit, 1, -1)\n",
    "y_train, x_train = read_file('features.test',main_digit,other_digit,1,-1)\n",
    "for q in Q:\n",
    "    for c in C:\n",
    "        parameters = '-t 1' + ' -d ' +str(q)+' -r 1 -c '+str(c)\n",
    "        model = svm_train(y, x, parameters)\n",
    "        p_labels, p_acc, p_vals = svm_predict(y, x, model)      \n",
    "        print('E_in for digit: ',main_digit,' versus: ',5, 100-p_acc[0],'%')\n",
    "        p_labels, p_acc, p_vals = svm_predict(y_train, x_train, model)\n",
    "        print('E_out for digit: ',main_digit,' versus: ',5, 100-p_acc[0],'%')\n",
    "        print('Number of support vectors: ', model.get_nr_sv())\n",
    "        print('Parameters ',parameters,'\\n\\n')"
   ]
  },
  {
   "cell_type": "code",
   "execution_count": 103,
   "metadata": {},
   "outputs": [
    {
     "name": "stdout",
     "output_type": "stream",
     "text": [
      "[0, 0, 91, 2, 7]\n",
      "[1.9583600256245943, 0.667520819987189, 0.44843049327354906, 0.48686739269699075, 0.47661755285073926]\n"
     ]
    }
   ],
   "source": [
    "# 7, 8\n",
    "runs = 100\n",
    "\n",
    "main_digit = 1\n",
    "other_digits = {5}\n",
    "\n",
    "C = [0.0001, 0.001, 0.01, 0.1, 1]\n",
    "\n",
    "y, x = read_file('features.train',main_digit, other_digits, 1, -1)\n",
    "\n",
    "counts = [0] * len(C)\n",
    "total_cv = [0] * len(C)\n",
    "for i in range(runs):\n",
    "    best_e_cv_acc = 0.\n",
    "    best_idx = -1\n",
    "    for i in range(len(C)):\n",
    "        parameters = '-t 1 -d 2 -r 1 -c '+str(C[i])+' -v 10'\n",
    "        e_cv_acc = svm_train(y,x,parameters)\n",
    "        total_cv[i]+=((100-e_cv_acc)/runs)\n",
    "        if e_cv_acc > best_e_cv_acc:\n",
    "            best_e_cv_acc = e_cv_acc\n",
    "            best_idx = i\n",
    "    counts[best_idx]+=1\n",
    "clear_output()\n",
    "print(counts)\n",
    "print(total_cv)"
   ]
  },
  {
   "cell_type": "code",
   "execution_count": 126,
   "metadata": {},
   "outputs": [
    {
     "name": "stdout",
     "output_type": "stream",
     "text": [
      "Accuracy = 62.2642% (264/424) (classification)\n",
      "E_out:  37.735849056603776\n",
      "Accuracy = 93.8679% (398/424) (classification)\n",
      "E_out:  6.132075471698116\n",
      "Accuracy = 93.8679% (398/424) (classification)\n",
      "E_out:  6.132075471698116\n",
      "Accuracy = 93.8679% (398/424) (classification)\n",
      "E_out:  6.132075471698116\n",
      "Accuracy = 93.8679% (398/424) (classification)\n",
      "E_out:  6.132075471698116\n"
     ]
    }
   ],
   "source": [
    "# 9, 10\n",
    "main_digit = 1\n",
    "other_digits = {5}\n",
    "\n",
    "C = [0.01, 1, 100, 10**4, 10**6]\n",
    "\n",
    "y, x = read_file('features.train',main_digit, other_digits, 1, -1)\n",
    "y_train, x_train = read_file('features.test',main_digit,other_digits,1,-1)\n",
    "for c in C:\n",
    "    parameters = '-t 2 -g 2000 -c '+ str(c)\n",
    "    model = svm_train(y,x, parameters)\n",
    "    p_labels, p_acc, p_val = svm_predict(y_train,x_train,model)\n",
    "    print('E_out: ',100-p_acc[0])"
   ]
  }
 ],
 "metadata": {
  "kernelspec": {
   "display_name": "Python 3",
   "language": "python",
   "name": "python3"
  },
  "language_info": {
   "codemirror_mode": {
    "name": "ipython",
    "version": 3
   },
   "file_extension": ".py",
   "mimetype": "text/x-python",
   "name": "python",
   "nbconvert_exporter": "python",
   "pygments_lexer": "ipython3",
   "version": "3.6.3"
  }
 },
 "nbformat": 4,
 "nbformat_minor": 2
}
