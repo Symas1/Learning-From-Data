{
 "cells": [
  {
   "cell_type": "code",
   "execution_count": 1,
   "metadata": {
    "collapsed": true
   },
   "outputs": [],
   "source": [
    "import numpy as np\n",
    "import matplotlib.pyplot as plt"
   ]
  },
  {
   "cell_type": "code",
   "execution_count": 45,
   "metadata": {
    "collapsed": true
   },
   "outputs": [],
   "source": [
    "def read_file(file_name, main_digit, other_digits, main_digit_y, other_digits_y):\n",
    "    X = []\n",
    "    Y = []\n",
    "    with open (file_name) as file:\n",
    "        for line in file:\n",
    "            line = tuple(map(float, line.split()))\n",
    "            if int(line[0]) == main_digit:\n",
    "                Y.append(main_digit_y)\n",
    "            elif int(line[0]) in other_digits:\n",
    "                Y.append(other_digits_y)\n",
    "            else: continue          \n",
    "            X.append([line[1:]])\n",
    "    X = np.reshape(X,(-1,2))\n",
    "    Y = np.reshape(Y,(len(X),-1))\n",
    "    return X, Y"
   ]
  },
  {
   "cell_type": "code",
   "execution_count": 65,
   "metadata": {
    "collapsed": true
   },
   "outputs": [],
   "source": [
    "def linear_regression_with_regularization(Z, Y, coef):\n",
    "    Z_pinv = np.dot(np.linalg.inv(np.dot(Z.T, Z) + np.eye(len(Z[0])) * coef), Z.T)\n",
    "    return np.dot(Z_pinv, Y)\n",
    "\n",
    "def test_e(X, Y, w):\n",
    "    errors = 0\n",
    "    for i in range(len(X)):\n",
    "        answer = np.sign(np.dot(w.T, X[i]))\n",
    "        if answer != Y[i]:\n",
    "            errors+=1\n",
    "    return errors/len(Y)"
   ]
  },
  {
   "cell_type": "code",
   "execution_count": 66,
   "metadata": {
    "scrolled": false
   },
   "outputs": [
    {
     "name": "stdout",
     "output_type": "stream",
     "text": [
      "5  versus all e_in=  0.07625840076807022\n",
      "6  versus all e_in=  0.09107118365107666\n",
      "7  versus all e_in=  0.08846523110684405\n",
      "8  versus all e_in=  0.07433822520916199\n",
      "9  versus all e_in=  0.08832807570977919\n"
     ]
    }
   ],
   "source": [
    "# 7\n",
    "main_digits = [5, 6, 7, 8, 9]\n",
    "other_digits = {0, 1, 2, 3, 4, 5, 6, 7, 8, 9}\n",
    "coef = 1.\n",
    "for digit in main_digits:\n",
    "    other_digits.remove(digit)\n",
    "    X, Y = read_file('features.train', digit, other_digits, 1, -1)\n",
    "    X = np.hstack((np.ones((len(X),1)),X))\n",
    "    w_reg = linear_regression_with_regularization(X, Y, coef)\n",
    "    print(digit,' versus all e_in= ',test_e(X, Y, w_reg))\n",
    "    other_digits.add(digit)"
   ]
  },
  {
   "cell_type": "code",
   "execution_count": 68,
   "metadata": {
    "scrolled": true
   },
   "outputs": [
    {
     "name": "stdout",
     "output_type": "stream",
     "text": [
      "0  versus all e_out=  0.10662680617837568\n",
      "1  versus all e_out=  0.02192326856003986\n",
      "2  versus all e_out=  0.09865470852017937\n",
      "3  versus all e_out=  0.08271051320378675\n",
      "4  versus all e_out=  0.09965122072745392\n"
     ]
    }
   ],
   "source": [
    "# 8\n",
    "def transform_X(X):\n",
    "    Z = []\n",
    "    for x in X:\n",
    "        z = [1, x[0], x[1], x[0]*x[1], x[0]**2, x[1]**2]\n",
    "        Z.append(z)\n",
    "    Z = np.reshape(Z, (len(X),-1))\n",
    "    return Z\n",
    "main_digits = [0, 1, 2, 3, 4]\n",
    "other_digits = {0, 1, 2, 3, 4, 5, 6, 7, 8, 9}\n",
    "coef = 1.\n",
    "for digit in main_digits:\n",
    "    other_digits.remove(digit)\n",
    "    X_train, Y_train = read_file('features.train', digit, other_digits, 1, -1)\n",
    "    Z_train = transform_X(X_train)\n",
    "    w_reg = linear_regression_with_regularization(Z_train, Y_train, coef)\n",
    "    \n",
    "    X_test, Y_test = read_file('features.test', digit, other_digits, 1, -1)\n",
    "    Z_test = transform_X(X_test)\n",
    "    print(digit,' versus all e_out= ',test_e(Z_test, Y_test, w_reg))\n",
    "    \n",
    "    other_digits.add(digit)"
   ]
  },
  {
   "cell_type": "code",
   "execution_count": 71,
   "metadata": {
    "scrolled": true
   },
   "outputs": [
    {
     "name": "stdout",
     "output_type": "stream",
     "text": [
      "0  without transform (X) versus all e_in=  0.10931285146070498\n",
      "0  without transform (X) versus all e_out=  0.11509715994020926\n",
      "0  with transform (Z) versus all e_in=  0.10231792621039638\n",
      "0  with transform (Z) versus all e_out=  0.10662680617837568\n",
      "\n",
      "\n",
      "\n",
      "1  without transform (X) versus all e_in=  0.01522424907420107\n",
      "1  without transform (X) versus all e_out=  0.02242152466367713\n",
      "1  with transform (Z) versus all e_in=  0.012343985735838706\n",
      "1  with transform (Z) versus all e_out=  0.02192326856003986\n",
      "\n",
      "\n",
      "\n",
      "2  without transform (X) versus all e_in=  0.10026059525442327\n",
      "2  without transform (X) versus all e_out=  0.09865470852017937\n",
      "2  with transform (Z) versus all e_in=  0.10026059525442327\n",
      "2  with transform (Z) versus all e_out=  0.09865470852017937\n",
      "\n",
      "\n",
      "\n",
      "3  without transform (X) versus all e_in=  0.09024825126868742\n",
      "3  without transform (X) versus all e_out=  0.08271051320378675\n",
      "3  with transform (Z) versus all e_in=  0.09024825126868742\n",
      "3  with transform (Z) versus all e_out=  0.08271051320378675\n",
      "\n",
      "\n",
      "\n",
      "4  without transform (X) versus all e_in=  0.08942531888629818\n",
      "4  without transform (X) versus all e_out=  0.09965122072745392\n",
      "4  with transform (Z) versus all e_in=  0.08942531888629818\n",
      "4  with transform (Z) versus all e_out=  0.09965122072745392\n",
      "\n",
      "\n",
      "\n",
      "5  without transform (X) versus all e_in=  0.07625840076807022\n",
      "5  without transform (X) versus all e_out=  0.07972097658196313\n",
      "5  with transform (Z) versus all e_in=  0.07625840076807022\n",
      "5  with transform (Z) versus all e_out=  0.07922272047832586\n",
      "\n",
      "\n",
      "\n",
      "6  without transform (X) versus all e_in=  0.09107118365107666\n",
      "6  without transform (X) versus all e_out=  0.08470353761833582\n",
      "6  with transform (Z) versus all e_in=  0.09107118365107666\n",
      "6  with transform (Z) versus all e_out=  0.08470353761833582\n",
      "\n",
      "\n",
      "\n",
      "7  without transform (X) versus all e_in=  0.08846523110684405\n",
      "7  without transform (X) versus all e_out=  0.07324364723467862\n",
      "7  with transform (Z) versus all e_in=  0.08846523110684405\n",
      "7  with transform (Z) versus all e_out=  0.07324364723467862\n",
      "\n",
      "\n",
      "\n",
      "8  without transform (X) versus all e_in=  0.07433822520916199\n",
      "8  without transform (X) versus all e_out=  0.08271051320378675\n",
      "8  with transform (Z) versus all e_in=  0.07433822520916199\n",
      "8  with transform (Z) versus all e_out=  0.08271051320378675\n",
      "\n",
      "\n",
      "\n",
      "9  without transform (X) versus all e_in=  0.08832807570977919\n",
      "9  without transform (X) versus all e_out=  0.08819133034379671\n",
      "9  with transform (Z) versus all e_in=  0.08832807570977919\n",
      "9  with transform (Z) versus all e_out=  0.08819133034379671\n",
      "\n",
      "\n",
      "\n"
     ]
    }
   ],
   "source": [
    "# 9\n",
    "main_digits = [0, 1, 2, 3, 4, 5, 6, 7, 8, 9]\n",
    "other_digits = {0, 1, 2, 3, 4, 5, 6, 7, 8, 9}\n",
    "coef = 1.\n",
    "for digit in main_digits:\n",
    "    other_digits.remove(digit)\n",
    "    \n",
    "    X_train, Y_train = read_file('features.train', digit, other_digits, 1, -1)\n",
    "    Z_train = transform_X(X_train)\n",
    "    w_reg_Z = linear_regression_with_regularization(Z_train, Y_train, coef)\n",
    "    \n",
    "    X_train = np.hstack((np.ones((len(X_train),1)),X_train))\n",
    "    w_reg_X = linear_regression_with_regularization(X_train, Y_train, coef)\n",
    "    \n",
    "    X_test, Y_test = read_file('features.test', digit, other_digits, 1, -1)\n",
    "    Z_test = transform_X(X_test)\n",
    "    \n",
    "    X_test = np.hstack((np.ones((len(X_test),1)),X_test))\n",
    "    \n",
    "    print(digit,' without transform (X) versus all e_in= ', test_e(X_train, Y_train, w_reg_X))\n",
    "    print(digit,' without transform (X) versus all e_out= ', test_e(X_test, Y_test, w_reg_X))\n",
    "    print(digit,' with transform (Z) versus all e_in= ', test_e(Z_train, Y_train, w_reg_Z))\n",
    "    print(digit,' with transform (Z) versus all e_out= ', test_e(Z_test, Y_test, w_reg_Z))\n",
    "    print('\\n\\n')\n",
    "    \n",
    "    other_digits.add(digit)"
   ]
  },
  {
   "cell_type": "code",
   "execution_count": 74,
   "metadata": {},
   "outputs": [
    {
     "name": "stdout",
     "output_type": "stream",
     "text": [
      "coef=  0.01\n",
      "1  with transform (Z) versus 5 e_in=  0.004484304932735426\n",
      "1  with transform (Z) versus 5 e_out=  0.02830188679245283\n",
      "coef=  1\n",
      "1  with transform (Z) versus 5 e_in=  0.005124919923126201\n",
      "1  with transform (Z) versus 5 e_out=  0.025943396226415096\n"
     ]
    }
   ],
   "source": [
    "# 10\n",
    "main_digit = 1\n",
    "other_digits = {5}\n",
    "coef = [0.01, 1]\n",
    "\n",
    "X_train, Y_train = read_file('features.train', main_digit, other_digits, 1, -1)\n",
    "Z_train = transform_X(X_train)\n",
    "\n",
    "X_test, Y_test = read_file('features.test', main_digit, other_digits, 1, -1)\n",
    "Z_test = transform_X(X_test)\n",
    "for c in coef:\n",
    "    w_reg_Z = linear_regression_with_regularization(Z_train , Y_train, c)\n",
    "    print('coef= ',c)\n",
    "    print(main_digit,' with transform (Z) versus 5 e_in= ', test_e(Z_train, Y_train, w_reg_Z))\n",
    "    print(main_digit,' with transform (Z) versus 5 e_out= ', test_e(Z_test, Y_test, w_reg_Z))"
   ]
  }
 ],
 "metadata": {
  "kernelspec": {
   "display_name": "Python 3",
   "language": "python",
   "name": "python3"
  },
  "language_info": {
   "codemirror_mode": {
    "name": "ipython",
    "version": 3
   },
   "file_extension": ".py",
   "mimetype": "text/x-python",
   "name": "python",
   "nbconvert_exporter": "python",
   "pygments_lexer": "ipython3",
   "version": "3.6.3"
  }
 },
 "nbformat": 4,
 "nbformat_minor": 2
}
