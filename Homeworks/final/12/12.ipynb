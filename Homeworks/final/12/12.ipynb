{
 "cells": [
  {
   "cell_type": "code",
   "execution_count": 61,
   "metadata": {
    "collapsed": true
   },
   "outputs": [],
   "source": [
    "import numpy as np\n",
    "import matplotlib.pyplot as plt\n",
    "import scipy.optimize"
   ]
  },
  {
   "cell_type": "code",
   "execution_count": 62,
   "metadata": {
    "collapsed": true
   },
   "outputs": [],
   "source": [
    "# Solves quadratic programming problem of type\n",
    "# minimize 1/2 * x.T * G * x + a.T * x\n",
    "# subject to C * x >= b\n",
    "# Pass G - NxN; a - 1xN; C - MxN; b - 1xM\n",
    "# return - 1xN\n",
    "def solve_qp(G, a, C, b):\n",
    "    x0 = np.random.randn(len(G))\n",
    "\n",
    "    def loss(x, sign=1.):\n",
    "        return sign * (0.5 * np.dot(x.T, np.dot(G, x)) + np.dot(a, x))\n",
    "\n",
    "    def jac(x, sign=1.):\n",
    "        return sign * (np.dot(x.T, G) + a)\n",
    "\n",
    "    cons = {\n",
    "        'type': 'ineq',\n",
    "        'fun': lambda x: np.dot(C, x) - b,\n",
    "        'jac': lambda x: C\n",
    "    }\n",
    "\n",
    "    opt = {'disp': False}\n",
    "\n",
    "    return scipy.optimize.minimize(\n",
    "        loss, x0, jac=jac, constraints=cons, method='SLSQP', options=opt).x"
   ]
  },
  {
   "cell_type": "code",
   "execution_count": 63,
   "metadata": {},
   "outputs": [],
   "source": [
    "def transform_X(X):\n",
    "    Z = []\n",
    "    for x in X:\n",
    "        z = [x[1]**2 - 2 * x[0] - 1, x[0]**2 - 2 * x[1] + 1]\n",
    "        Z.append(z)\n",
    "    Z = np.reshape(Z, (-1, 2))\n",
    "    return Z\n",
    "\n",
    "\n",
    "def construct_G(Z, Y, kernel):\n",
    "    G = []\n",
    "    for i in range(len(Z)):\n",
    "        g_row = []\n",
    "        for j in range((len(Z))):\n",
    "            g_row.append(Y[i][0] * Y[j][0] * kernel(Z[i], Z[j]))\n",
    "        G.append(g_row)\n",
    "    G = np.reshape(G, (len(Z), -1))\n",
    "    return G\n",
    "\n",
    "\n",
    "def construct_C(Y):\n",
    "    C = []\n",
    "    C.append(np.reshape(Y, (1, -1)).tolist()[0])\n",
    "    C.append(np.negative(C[0]).tolist())\n",
    "    C = np.append(C, np.eye(len(Y)))\n",
    "    C = np.reshape(C, (-1, len(Y)))\n",
    "    return C\n",
    "\n",
    "\n",
    "def g_x(x, X, Y, alphas, b, kernel):\n",
    "    sum_ = 0.\n",
    "    for i in range(len(alphas)):\n",
    "        if alphas[i] != 0:\n",
    "            sum_ += Y[i][0] * alphas[i] * kernel(X[i], x)\n",
    "    return np.sign(sum_ + b)\n",
    "\n",
    "\n",
    "def recover_b(alphas, X, Y, kernel):\n",
    "    sum_for_b = 0.\n",
    "    support_found = False\n",
    "    support_idx = -1\n",
    "    for i in range(len(X)):\n",
    "        if alphas[i] != 0:\n",
    "            if support_found == False:\n",
    "                support_found = True\n",
    "                support_idx = i\n",
    "            sum_for_b += Y[i][0] * alphas[i] * kernel(X[i], X[support_idx])\n",
    "    return Y[support_idx][0] - sum_for_b"
   ]
  },
  {
   "cell_type": "code",
   "execution_count": 64,
   "metadata": {
    "collapsed": true
   },
   "outputs": [],
   "source": [
    "def plot_data(X, Y):\n",
    "    for i in range(len(X)):\n",
    "        if Y[i][0] == 1:\n",
    "            plt.plot(X[i][0], X[i][1], 'g.')\n",
    "        elif Y[i][0] == -1:\n",
    "            plt.plot(X[i][0], X[i][1], 'r.')\n",
    "    plt.show()"
   ]
  },
  {
   "cell_type": "code",
   "execution_count": 147,
   "metadata": {
    "collapsed": true
   },
   "outputs": [],
   "source": [
    "def kernel(x1, x2):\n",
    "    return (1 + np.dot(x1, np.reshape(x2, (-1, 1))))**2"
   ]
  },
  {
   "cell_type": "code",
   "execution_count": 154,
   "metadata": {},
   "outputs": [
    {
     "name": "stdout",
     "output_type": "stream",
     "text": [
      "[-0.       0.75087  0.65654  0.88889  0.28284  0.23568 -0.     ]\n",
      "Support vectors:  5\n"
     ]
    }
   ],
   "source": [
    "X = [[1, 0], [0, 1], [0, -1], [-1, 0], [0, 2], [0, -2], [-2, 0]]\n",
    "Y = [[-1], [-1], [-1], [1], [1], [1], [1]]\n",
    "\n",
    "G = construct_G(X, Y, kernel)\n",
    "a = np.ones(len(X))\n",
    "C = construct_C(Y)\n",
    "b = np.zeros(len(Y) + 2)\n",
    "\n",
    "alphas = np.around(solve_qp(G, -a, C, b),5)\n",
    "print(alphas)\n",
    "print('Support vectors: ', np.count_nonzero(alphas))"
   ]
  },
  {
   "cell_type": "code",
   "execution_count": 155,
   "metadata": {
    "collapsed": true
   },
   "outputs": [],
   "source": [
    "b = recover_b(alphas, X, Y, kernel)"
   ]
  },
  {
   "cell_type": "code",
   "execution_count": 156,
   "metadata": {
    "scrolled": false
   },
   "outputs": [
    {
     "name": "stdout",
     "output_type": "stream",
     "text": [
      "[-1.]\n",
      "[-1.]\n",
      "[-1.]\n",
      "[ 1.]\n",
      "[ 1.]\n",
      "[ 1.]\n",
      "[ 1.]\n"
     ]
    }
   ],
   "source": [
    "for x in X:\n",
    "    print(g_x(x, X, Y, alphas, b, kernel))"
   ]
  },
  {
   "cell_type": "code",
   "execution_count": 94,
   "metadata": {},
   "outputs": [
    {
     "data": {
      "image/png": "[encoded data removed]",
      "text/plain": [
       "<matplotlib.figure.Figure at 0x27ce1251978>"
      ]
     },
     "metadata": {},
     "output_type": "display_data"
    }
   ],
   "source": [
    "plot_data(X, Y)"
   ]
  }
 ],
 "metadata": {
  "kernelspec": {
   "display_name": "Python 3",
   "language": "python",
   "name": "python3"
  },
  "language_info": {
   "codemirror_mode": {
    "name": "ipython",
    "version": 3
   },
   "file_extension": ".py",
   "mimetype": "text/x-python",
   "name": "python",
   "nbconvert_exporter": "python",
   "pygments_lexer": "ipython3",
   "version": "3.6.3"
  }
 },
 "nbformat": 4,
 "nbformat_minor": 2
}
