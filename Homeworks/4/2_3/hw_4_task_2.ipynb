{
 "cells": [
  {
   "cell_type": "code",
   "execution_count": 5,
   "metadata": {},
   "outputs": [
    {
     "name": "stdout",
     "output_type": "stream",
     "text": [
      "Using matplotlib backend: Qt5Agg\n"
     ]
    }
   ],
   "source": [
    "import numpy\n",
    "import math\n",
    "import matplotlib.pyplot\n",
    "# eps <= sqrt(8/N * ln(4mh(2N)/delta))\n",
    "\n",
    "def vc_bound(N,delta,d_vc):\n",
    "    return math.sqrt((8/N) * (math.log(4)+math.log(math.pow(2*N,d_vc))-math.log(delta)))\n",
    "\n",
    "\n",
    "\n",
    "# eps <= sqrt((2ln(2N*mh(N)))/N) + sqrt(2/Nln(1/delta)) + 1/N\n",
    "def rademacher_penalty_bound(N, delta,d_vc):\n",
    "    return math.sqrt(2/N * math.log(2*N*math.pow(N,d_vc))) + math.sqrt(2/N * math.log(1/delta)) + 1/N\n",
    "\n",
    "\n",
    "\n",
    "def parrondo_and_van_den_broek_func(N,delta,d_vc,eps):\n",
    "    return math.sqrt(1/N * (2*eps + math.log(6*math.pow(2*N,d_vc)/delta)))\n",
    "\n",
    "def parrondo_and_van_den_broek(N,delta,d_vc):\n",
    "    eps_guess=1\n",
    "    eps_predict = parrondo_and_van_den_broek_func(N,delta,d_vc,eps_guess)\n",
    "    while(math.fabs(eps_guess-eps_predict)>=0.001):\n",
    "        eps_guess=eps_predict\n",
    "        eps_predict=parrondo_and_van_den_broek_func(N,delta,d_vc,eps_guess)\n",
    "    return eps_predict\n",
    "\n",
    "\n",
    "\n",
    "def devroye_func(N, delta,d_vc,eps):\n",
    "    return math.sqrt(1/(2*N)*(4*eps*(1+eps)+math.log(4*math.pow(N**2,d_vc)/delta)))\n",
    "\n",
    "def devroye(N,delta,d_vc):\n",
    "    eps_guess=1\n",
    "    eps_predict = devroye_func(N,delta,d_vc,eps_guess)\n",
    "    while(math.fabs(eps_guess-eps_predict)>=1):\n",
    "        eps_guess=eps_predict\n",
    "        eps_predict=devroye_func(N,delta,d_vc,eps_guess)\n",
    "    return eps_predict\n",
    "\n",
    "delta=0.05\n",
    "d_vc=50\n",
    "N = numpy.arange(1,7)\n",
    "\n",
    "eps_vc_bound = [vc_bound(i,delta,d_vc) for i in N]\n",
    "\n",
    "eps_rademacher_bound =[rademacher_penalty_bound(i,delta,d_vc)for i in N]\n",
    "\n",
    "eps_parrondo_and_van_den_broek = [parrondo_and_van_den_broek(i,delta,d_vc)for i in N]\n",
    "\n",
    "eps_devroye = [devroye(i,delta,d_vc) for i in N]\n",
    "\n",
    "%matplotlib\n",
    "matplotlib.pyplot.plot(N,eps_vc_bound,label='Original VC bound')\n",
    "matplotlib.pyplot.plot(N,eps_rademacher_bound,label='Rademacher penalty bound')\n",
    "matplotlib.pyplot.plot(N,eps_parrondo_and_van_den_broek,label='Parrondo and Van den Broek')\n",
    "matplotlib.pyplot.plot(N,eps_devroye,label='Devroye')\n",
    "matplotlib.pyplot.legend()\n",
    "matplotlib.pyplot.ylabel('epsilon')\n",
    "matplotlib.pyplot.xlabel('N')\n",
    "matplotlib.pyplot.show()"
   ]
  }
 ],
 "metadata": {
  "kernelspec": {
   "display_name": "Python 3",
   "language": "python",
   "name": "python3"
  },
  "language_info": {
   "codemirror_mode": {
    "name": "ipython",
    "version": 3
   },
   "file_extension": ".py",
   "mimetype": "text/x-python",
   "name": "python",
   "nbconvert_exporter": "python",
   "pygments_lexer": "ipython3",
   "version": "3.6.3"
  }
 },
 "nbformat": 4,
 "nbformat_minor": 2
}
