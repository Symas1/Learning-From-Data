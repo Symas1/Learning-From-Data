{
 "cells": [
  {
   "cell_type": "code",
   "execution_count": 1,
   "metadata": {
    "collapsed": true
   },
   "outputs": [],
   "source": [
    "import numpy\n",
    "import math\n",
    "import matplotlib.pyplot"
   ]
  },
  {
   "cell_type": "code",
   "execution_count": 2,
   "metadata": {},
   "outputs": [
    {
     "name": "stdout",
     "output_type": "stream",
     "text": [
      "452935.984049\n"
     ]
    }
   ],
   "source": [
    "def f(N,eps,delta,d_vc):\n",
    "    return (8/eps**2)*(numpy.log(4)+numpy.log(numpy.power(2*N,d_vc))-numpy.log(delta))\n",
    "\n",
    "N_guess=100\n",
    "N_predicted=f(N_guess,0.05,0.05,10)\n",
    "while(numpy.abs(N_guess-N_predicted)>=3000):\n",
    "    N_guess=N_predicted\n",
    "    N_predicted=f(N_guess,0.05,0.05,10)\n",
    "print(N_predicted)"
   ]
  }
 ],
 "metadata": {
  "kernelspec": {
   "display_name": "Python 3",
   "language": "python",
   "name": "python3"
  },
  "language_info": {
   "codemirror_mode": {
    "name": "ipython",
    "version": 3
   },
   "file_extension": ".py",
   "mimetype": "text/x-python",
   "name": "python",
   "nbconvert_exporter": "python",
   "pygments_lexer": "ipython3",
   "version": "3.6.3"
  }
 },
 "nbformat": 4,
 "nbformat_minor": 2
}
