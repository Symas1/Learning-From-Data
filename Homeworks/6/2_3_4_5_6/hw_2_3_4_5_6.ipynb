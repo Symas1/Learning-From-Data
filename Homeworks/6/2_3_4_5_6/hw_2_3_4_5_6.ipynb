{
 "cells": [
  {
   "cell_type": "code",
   "execution_count": 104,
   "metadata": {
    "collapsed": true
   },
   "outputs": [],
   "source": [
    "import math\n",
    "import numpy as np\n",
    "import matplotlib.pyplot as plt"
   ]
  },
  {
   "cell_type": "code",
   "execution_count": 157,
   "metadata": {},
   "outputs": [],
   "source": [
    "class Linear_regression:\n",
    "    def __init__(self,train_file,test_file):        \n",
    "        self.X_train,self.Y_train = self.read_file(train_file)\n",
    "        self.X_test,self.Y_test = self.read_file(test_file)\n",
    "        self.X_train = self.nonlinear_transform(self.X_train)\n",
    "        self.X_test = self.nonlinear_transform(self.X_test)\n",
    "        \n",
    "        self.linear_regression()\n",
    "        self.e_in = self.calculate_error(self.X_train,self.Y_train,self.w)\n",
    "        self.e_out = self.calculate_error(self.X_test,self.Y_test,self.w)\n",
    "        print('E_in: ',self.e_in,'E_out: ',self.e_out)\n",
    "        \n",
    "        for k in [-3,3,2,1,0,-1,-2]:\n",
    "            self.linear_regression_weight_decay(10,k)\n",
    "            self.e_in_reg = self.calculate_error(self.X_train,self.Y_train,self.w_reg)\n",
    "            self.e_out_reg = self.calculate_error(self.X_test,self.Y_test,self.w_reg)\n",
    "            print('k: ',k,'E_in_reg: ',self.e_in_reg,'E_out_reg: ',self.e_out_reg)\n",
    "        \n",
    "    def calculate_error(self,X,Y,w):\n",
    "        errors = 0\n",
    "        for i in range(len(X)):\n",
    "            if(self.query(X[i],w)!=Y[i]):\n",
    "                errors+=1\n",
    "        return errors/len(X)\n",
    "    \n",
    "    def query(self,x,w):\n",
    "        return np.sign(np.dot(w.T,x))\n",
    "    \n",
    "    def linear_regression_weight_decay(self,lam,k):\n",
    "        X_t = [i.T for i in self.X_train]\n",
    "        X_t = np.reshape(X_t,(len(self.X_train),8))\n",
    "        X_inv = np.dot(np.linalg.inv(np.dot(X_t.T,X_t) + (lam**k * np.identity(8))),X_t.T)\n",
    "        self.w_reg = np.dot(X_inv,self.Y_train)\n",
    "    \n",
    "    def linear_regression(self):\n",
    "        X_t = [i.T for i in self.X_train]\n",
    "        X_t = np.reshape(X_t,(len(self.X_train),8))\n",
    "        X_inv = np.linalg.pinv(X_t)\n",
    "        self.w = np.dot(X_inv,self.Y_train)\n",
    "    \n",
    "    def nonlinear_transform(self,X):\n",
    "        X_new=[]\n",
    "        for i in X:\n",
    "            X_new.append(np.array([ 1, i[1], i[2], i[1]**2, i[2]**2, i[1]*i[2], math.fabs(i[1]-i[2]), math.fabs(i[1]+i[2]) ],\\\n",
    "                                  ndmin=2).T)\n",
    "        return X_new\n",
    "    \n",
    "    def read_file(self,file_name):\n",
    "        X=[]\n",
    "        Y=[]\n",
    "        with open(file_name,'r') as ins:\n",
    "            for line in ins:\n",
    "                curr_line = list(map(float,line.split()))\n",
    "                X.append(np.array([1]+curr_line[:2],ndmin=2).T)\n",
    "                Y.append(curr_line[-1])\n",
    "        ins.close()\n",
    "        Y = np.reshape(Y,(len(Y),1))\n",
    "        return X,Y\n",
    "        "
   ]
  },
  {
   "cell_type": "code",
   "execution_count": 158,
   "metadata": {
    "scrolled": true
   },
   "outputs": [
    {
     "name": "stdout",
     "output_type": "stream",
     "text": [
      "E_in:  0.02857142857142857 E_out:  0.084\n",
      "k:  -3 E_in_reg:  0.02857142857142857 E_out_reg:  0.08\n",
      "k:  3 E_in_reg:  0.37142857142857144 E_out_reg:  0.436\n",
      "k:  2 E_in_reg:  0.2 E_out_reg:  0.228\n",
      "k:  1 E_in_reg:  0.05714285714285714 E_out_reg:  0.124\n",
      "k:  0 E_in_reg:  0.0 E_out_reg:  0.092\n",
      "k:  -1 E_in_reg:  0.02857142857142857 E_out_reg:  0.056\n",
      "k:  -2 E_in_reg:  0.02857142857142857 E_out_reg:  0.084\n"
     ]
    }
   ],
   "source": [
    "a=Linear_regression(\"in.txt\",\"out.txt\")"
   ]
  }
 ],
 "metadata": {
  "kernelspec": {
   "display_name": "Python 3",
   "language": "python",
   "name": "python3"
  },
  "language_info": {
   "codemirror_mode": {
    "name": "ipython",
    "version": 3
   },
   "file_extension": ".py",
   "mimetype": "text/x-python",
   "name": "python",
   "nbconvert_exporter": "python",
   "pygments_lexer": "ipython3",
   "version": "3.6.3"
  }
 },
 "nbformat": 4,
 "nbformat_minor": 2
}
