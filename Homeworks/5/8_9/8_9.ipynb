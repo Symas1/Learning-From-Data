{
 "cells": [
  {
   "cell_type": "code",
   "execution_count": 2,
   "metadata": {
    "collapsed": true
   },
   "outputs": [],
   "source": [
    "import numpy\n",
    "import math\n",
    "import matplotlib.pyplot as plt\n",
    "from sklearn.utils import shuffle\n",
    "from scipy.special import expit\n",
    "from copy import copy, deepcopy"
   ]
  },
  {
   "cell_type": "code",
   "execution_count": 11,
   "metadata": {
    "collapsed": true
   },
   "outputs": [],
   "source": [
    "class Logistic_regression:\n",
    "    def __init__(self,training_size, learning_rate, stop_number):\n",
    "        self.training_size=training_size\n",
    "        self.learning_rate=learning_rate\n",
    "        self.stop_number=stop_number\n",
    "        self.weights=numpy.zeros((3,1))\n",
    "        self.activation_function = expit\n",
    "        \n",
    "        self.preparations()\n",
    "        \n",
    "        self.train()\n",
    "        self.calculate_e_out()\n",
    "        \n",
    "    def train(self):\n",
    "        difference=10\n",
    "        self.epochs=0\n",
    "        while(difference>=self.stop_number):\n",
    "            self.epochs+=1\n",
    "            old_weights=deepcopy(self.weights)\n",
    "            shuffle(self.training_data,self.training_data_answers)\n",
    "            for i in range (self.training_size):\n",
    "                self.weights-=self.learning_rate*self.point_gradient(i)\n",
    "            difference=numpy.linalg.norm(old_weights-self.weights)\n",
    "    \n",
    "    def query(self,x):\n",
    "        return 1 if self.activation_function(numpy.dot(self.weights.T,x))>=0.5 else -1\n",
    "    \n",
    "    def calculate_e_out(self):\n",
    "        test_set_size=1000\n",
    "        e_out_x=[]\n",
    "        for i in range(test_set_size):\n",
    "            e_out_x.append(numpy.array([1]+numpy.random.uniform(-1,1,2).tolist(),ndmin=2).T)\n",
    "        e_out_y=[self.target_function(i[1],i[2]) for i in e_out_x]\n",
    "        errors=0\n",
    "        for i in range(test_set_size):\n",
    "            q = self.query(e_out_x[i])\n",
    "            if(q!=e_out_y[i]):\n",
    "                errors+=1\n",
    "        self.e_out=errors/test_set_size\n",
    "    \n",
    "    def point_gradient(self,n):\n",
    "        return -self.training_data_answers[n]*self.training_data[n]*self.activation_function(-self.training_data_answers[n]*numpy.dot(self.weights.T,self.training_data[n]))\n",
    "    \n",
    "    def target_function(self,x,y):\n",
    "        origin_y = self.target_polynom(x)\n",
    "        return 1 if y>origin_y else -1\n",
    "        \n",
    "    def preparations(self):\n",
    "        self.randomize_separating_line()\n",
    "        self.randomize_training_data()\n",
    "#         self.plot_training_data()\n",
    "\n",
    "#         plt.plot(self.separating_line_x,self.separating_line_y,label='Target')\n",
    "#         plt.legend()\n",
    "        \n",
    "#         plt.axis([-1,1,-1,1])\n",
    "#         plt.show() \n",
    "            \n",
    "    def randomize_training_data(self):\n",
    "        self.training_data=[]\n",
    "        for i in range(self.training_size):\n",
    "            self.training_data.append(numpy.array([1]+numpy.random.uniform(-1,1,2).tolist(),ndmin=2).T)\n",
    "        self.training_data_answers=[self.target_function(i[1],i[2]) for i in self.training_data]\n",
    "        \n",
    "    def randomize_separating_line(self):\n",
    "        x_points=numpy.random.uniform(-1,1,2)\n",
    "        y_points=numpy.random.uniform(-1,1,2)\n",
    "        polyfit = numpy.polyfit(x_points,y_points,1)\n",
    "        self.target_polynom = numpy.poly1d(polyfit)\n",
    "        self.separating_line_x=numpy.linspace(-1,1,100)\n",
    "        self.separating_line_y=[self.target_polynom(i) for i in self.separating_line_x]\n",
    "        \n",
    "    def plot_training_data(self):\n",
    "        for i in range (self.training_size):\n",
    "            if(self.training_data_answers[i]==1):\n",
    "                plt.plot(self.training_data[i][1],self.training_data[i][2],'g.')\n",
    "            else:\n",
    "                plt.plot(self.training_data[i][1],self.training_data[i][2],'r.')"
   ]
  },
  {
   "cell_type": "code",
   "execution_count": null,
   "metadata": {
    "scrolled": true
   },
   "outputs": [
    {
     "name": "stdout",
     "output_type": "stream",
     "text": [
      "0\n",
      "1\n",
      "2\n",
      "3\n",
      "4\n",
      "5\n",
      "6\n",
      "7\n",
      "8\n",
      "9\n",
      "10\n",
      "11\n",
      "12\n",
      "13\n",
      "14\n",
      "15\n",
      "16\n"
     ]
    }
   ],
   "source": [
    "learning_rate=0.01\n",
    "stop_number=0.01\n",
    "training_size=100\n",
    "starts=100\n",
    "\n",
    "total_e_out=0\n",
    "total_epochs=0\n",
    "for i in range(starts):\n",
    "    print(i)\n",
    "    a=Logistic_regression(training_size,learning_rate,stop_number)\n",
    "    total_e_out+=a.e_out\n",
    "    total_epochs+=a.epochs\n",
    "total_e_out/=starts\n",
    "total_epochs/=starts"
   ]
  },
  {
   "cell_type": "code",
   "execution_count": 10,
   "metadata": {},
   "outputs": [
    {
     "name": "stdout",
     "output_type": "stream",
     "text": [
      "0.48510000000000003\n",
      "341.89\n"
     ]
    }
   ],
   "source": [
    "print(total_e_out)\n",
    "print(total_epochs)"
   ]
  }
 ],
 "metadata": {
  "kernelspec": {
   "display_name": "Python 3",
   "language": "python",
   "name": "python3"
  },
  "language_info": {
   "codemirror_mode": {
    "name": "ipython",
    "version": 3
   },
   "file_extension": ".py",
   "mimetype": "text/x-python",
   "name": "python",
   "nbconvert_exporter": "python",
   "pygments_lexer": "ipython3",
   "version": "3.6.3"
  }
 },
 "nbformat": 4,
 "nbformat_minor": 2
}
