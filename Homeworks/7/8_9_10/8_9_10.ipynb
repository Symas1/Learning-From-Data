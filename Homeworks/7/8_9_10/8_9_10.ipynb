{
 "cells": [
  {
   "cell_type": "code",
   "execution_count": 109,
   "metadata": {
    "collapsed": true
   },
   "outputs": [],
   "source": [
    "import math\n",
    "import numpy as np\n",
    "import matplotlib.pyplot as plt\n",
    "import matplotlib.lines as mlines\n",
    "import scipy.optimize"
   ]
  },
  {
   "cell_type": "code",
   "execution_count": 110,
   "metadata": {
    "collapsed": true
   },
   "outputs": [],
   "source": [
    "class Generate_random_fx_and_train_points:\n",
    "    def __init__(self,range_from,range_to,N):\n",
    "        self.range_from = range_from\n",
    "        self.range_to = range_to\n",
    "        self.N = N\n",
    "        self.randomize_fx()\n",
    "        self.randomize_data()\n",
    "        \n",
    "    def randomize_fx(self):\n",
    "        X = np.random.uniform(self.range_from,self.range_to,2)\n",
    "        Y = np.random.uniform(self.range_from,self.range_to,2)\n",
    "        \n",
    "        fit = np.polyfit(X,Y,1)\n",
    "        self.target = np.poly1d(fit)\n",
    "    \n",
    "    def randomize_data(self):\n",
    "        plus = False\n",
    "        minus = False\n",
    "        while(plus == False or minus == False):\n",
    "            plus = False\n",
    "            minus = False\n",
    "            self.X = np.random.uniform(self.range_from,self.range_to,(self.N,2))\n",
    "            self.Y = []\n",
    "            for x in self.X:\n",
    "                y = self.fx(x[0],x[1])\n",
    "                if(y==1):\n",
    "                    plus = True\n",
    "                elif(y==-1):\n",
    "                    minus = True\n",
    "                self.Y.append(y)\n",
    "        self.X = np.hstack((np.ones((len(self.X),1)),self.X))\n",
    "        self.X = [np.array(i,ndmin=2).T for i in self.X]\n",
    "        self.Y = np.reshape(self.Y,(self.N,1))\n",
    "   \n",
    "    def fx(self,x, y):\n",
    "        original_y = self.target(x)\n",
    "        return 1 if original_y < y else -1      "
   ]
  },
  {
   "cell_type": "code",
   "execution_count": 111,
   "metadata": {
    "collapsed": true
   },
   "outputs": [],
   "source": [
    "class PLA:\n",
    "    def __init__(self,fx,X,Y,test_size):\n",
    "        self.fx = fx\n",
    "        self.X = X\n",
    "        self.Y = Y\n",
    "        self.test_size = test_size\n",
    "        self.w = np.zeros((3,1))\n",
    "        self.train()\n",
    "        self.test_e_out()\n",
    "        \n",
    "    def train(self):\n",
    "        while(True):\n",
    "            all_correct = True\n",
    "            \n",
    "            low = 0\n",
    "            high = len(self.X)\n",
    "\n",
    "            while(low<high):\n",
    "                idx = np.random.randint(low,high)\n",
    "                answer = np.sign(np.dot(self.w.T,self.X[idx]))\n",
    "                if(answer != self.Y[idx]):\n",
    "                    all_correct = False\n",
    "                    self.w+=self.Y[idx]*self.X[idx]\n",
    "                else:\n",
    "                    self.X[low], self.X[idx] = self.X[idx], self.X[low]\n",
    "                    self.Y[[low,idx]]=self.Y[[idx,low]]\n",
    "                    low+=1\n",
    "            \n",
    "            if(all_correct):\n",
    "                break\n",
    "    \n",
    "    def test_e_out(self):\n",
    "        X_test = np.random.uniform(-1,1,(self.test_size, 2))\n",
    "        X_test = np.hstack((np.ones((len(X_test),1)), X_test))\n",
    "        X_test = [np.array(i,ndmin=2).T for i in X_test]\n",
    "        Y_test = [self.target(i[1],i[2]) for i in X_test]\n",
    "        Y_test = np.reshape(Y_test,(len(Y_test),1))\n",
    "\n",
    "        errors=0\n",
    "        for i in range(len(X_test)):\n",
    "            answer = np.sign(np.dot(self.w.T,X_test[i]))\n",
    "            if(answer!=Y_test[i]):\n",
    "                errors+=1\n",
    "        self.e_out = errors / self.test_size\n",
    "        \n",
    "        \n",
    "    def target(self,x,y):\n",
    "        original_y = self.fx(x)\n",
    "        return 1 if original_y < y else -1"
   ]
  },
  {
   "cell_type": "code",
   "execution_count": 112,
   "metadata": {},
   "outputs": [],
   "source": [
    "class Plot_everything:\n",
    "    def __init__(self,target,X,Y,pla_w,svm_w,svm_alphas):\n",
    "        self.target = target\n",
    "        self.pla_w = pla_w\n",
    "        self.svm_w = svm_w\n",
    "        self.svm_alphas = svm_alphas\n",
    "        self.X = X\n",
    "        self.Y = Y\n",
    "        self.xs = x = np.linspace(-1,1,100)\n",
    "        \n",
    "        self.plot_target()\n",
    "        self.plot_points()\n",
    "        self.plot_pla()\n",
    "        \n",
    "        self.plot_svm()\n",
    "        self.highlight_support_vectors()\n",
    "        \n",
    "        plt.legend()\n",
    "        plt.axis([-1,1,-1,1])\n",
    "        plt.show()\n",
    "        \n",
    "    def plot_target(self):\n",
    "        plt.plot(self.xs,[self.target(i) for i in self.xs],label='Target')\n",
    "    \n",
    "    def plot_points(self):\n",
    "        for i in range(len(self.X)):\n",
    "            if(self.Y[i]==1):\n",
    "                plt.plot(self.X[i][1],self.X[i][2],'g.')\n",
    "            elif(a.Y[i]==-1):\n",
    "                plt.plot(self.X[i][1],self.X[i][2],'r.')\n",
    "                \n",
    "    def plot_pla(self):\n",
    "        plt.plot(self.xs,[-self.pla_w[0]/self.pla_w[2] - self.pla_w[1]/self.pla_w[2]*i for i in self.xs],label='PLA')\n",
    "        \n",
    "    def plot_svm(self):\n",
    "        plt.plot(self.xs,[-self.svm_w[0]/self.svm_w[2]-self.svm_w[1]/self.svm_w[2]*i for i in self.xs],label='SVM')\n",
    "    \n",
    "    def highlight_support_vectors(self):\n",
    "        for i in range(len(self.svm_alphas)):\n",
    "            if(self.svm_alphas[i]!=0):\n",
    "                if(self.Y[i]==1):\n",
    "                    plt.plot(self.X[i][1],self.X[i][2],color='#003300',marker='^')\n",
    "                elif(a.Y[i]==-1):\n",
    "                    plt.plot(self.X[i][1],self.X[i][2],color='#800000',marker='^')"
   ]
  },
  {
   "cell_type": "code",
   "execution_count": 113,
   "metadata": {
    "collapsed": true
   },
   "outputs": [],
   "source": [
    "# Solves quadratic programming problem of type\n",
    "# minimize 1/2 * x.T * G * x + a.T * x\n",
    "# subject to C * x >= b\n",
    "# Pass G - NxN; a - 1xN; C - MxN; b - 1xM\n",
    "# return - 1xN\n",
    "def solve_qp(G, a, C, b):\n",
    "    x0 = np.random.randn(len(G))\n",
    "\n",
    "    def loss(x, sign=1.):\n",
    "        return sign * (0.5 * np.dot(x.T, np.dot(G,x)) + np.dot(a, x))\n",
    "\n",
    "    def jac(x, sign=1.):\n",
    "        return sign * (np.dot(x.T,G) + a)\n",
    "\n",
    "    cons = {'type':'ineq',\n",
    "           'fun':lambda x: np.dot(C,x) - b,\n",
    "           'jac':lambda x: C}\n",
    "\n",
    "    opt = {'disp':False}\n",
    "\n",
    "    return scipy.optimize.minimize(loss, x0, jac=jac, constraints=cons, method='SLSQP',options=opt).x"
   ]
  },
  {
   "cell_type": "code",
   "execution_count": 114,
   "metadata": {
    "collapsed": true
   },
   "outputs": [],
   "source": [
    "class Hard_margin_svm:\n",
    "    def __init__(self,fx,X,Y, test_size):\n",
    "        self.fx = fx\n",
    "        self.X = X\n",
    "        self.Y = Y\n",
    "        self.test_size = test_size\n",
    "        \n",
    "        self.construct_g()\n",
    "        self.a = np.ones((len(self.Y)))\n",
    "        self.construct_c()\n",
    "        self.b = np.zeros(len(self.X)+2)\n",
    "        \n",
    "        self.alphas = np.around(solve_qp(self.g, -self.a, self.c, self.b),5)\n",
    "        \n",
    "        self.calculate_w()\n",
    "        self.calculate_b()\n",
    "        \n",
    "        self.test_e_out()\n",
    "        \n",
    "    def calculate_w(self):\n",
    "        self.w = np.zeros((len(self.X[0]),1))\n",
    "        self.support_vectors_num = 0\n",
    "        for i in range(len(self.X)):\n",
    "            if(self.alphas[i]!=0):\n",
    "                self.w += self.Y[i]*self.alphas[i]*self.X[i]\n",
    "                self.support_vectors_num+=1\n",
    "    \n",
    "    def calculate_b(self):\n",
    "        self.b = 0\n",
    "        first = True\n",
    "        y_s_idx = -1\n",
    "        for i in range((len(self.X))):\n",
    "            if(self.alphas[i]!=0):\n",
    "                if(first):\n",
    "                    first=False\n",
    "                    y_s_idx = i\n",
    "            self.b+= self.Y[i]*self.alphas[i]*np.dot(self.X[i].T,self.X[y_s_idx])\n",
    "        self.b = self.Y[y_s_idx] - self.b\n",
    "        self.w[0][0]=self.b\n",
    "    \n",
    "    def test_e_out(self):\n",
    "        X_test = np.random.uniform(-1,1,(self.test_size, 2))\n",
    "        X_test = np.hstack((np.ones((len(X_test),1)), X_test))\n",
    "        X_test = [np.array(i,ndmin=2).T for i in X_test]\n",
    "        Y_test = [self.target(i[1],i[2]) for i in X_test]\n",
    "        Y_test = np.reshape(Y_test,(len(Y_test),1))\n",
    "\n",
    "        errors=0\n",
    "        for i in range(len(X_test)):\n",
    "            answer = np.sign(np.dot(self.w.T,X_test[i]))\n",
    "            if(answer!=Y_test[i]):\n",
    "                errors+=1\n",
    "        self.e_out = errors / self.test_size\n",
    "        \n",
    "        \n",
    "    def target(self,x,y):\n",
    "        original_y = self.fx(x)\n",
    "        return 1 if original_y < y else -1\n",
    "    \n",
    "    def construct_g(self):\n",
    "        self.g = []\n",
    "        for i in range(len(self.X)):\n",
    "            row = []\n",
    "            for j in range(len(self.X)):\n",
    "                row.append((self.Y[i] * self.Y[j] * np.dot(self.X[i].T , self.X[j])).tolist()[0])\n",
    "            self.g.append(row)\n",
    "        self.g = np.reshape(self.g,(len(self.X),len(self.X)))\n",
    "        self.g = np.array(self.g)\n",
    "        \n",
    "    def construct_c(self):      \n",
    "        self.c = self.Y.T.tolist()\n",
    "        self.c.append(np.negative(self.Y.T).tolist()[0])\n",
    "        self.c = np.reshape(self.c,(2,len(self.Y)))\n",
    "        self.c = np.concatenate((self.c, np.identity(len(self.X))))"
   ]
  },
  {
   "cell_type": "code",
   "execution_count": 115,
   "metadata": {
    "scrolled": false
   },
   "outputs": [
    {
     "data": {
      "image/png": "[encoded data removed]",
      "text/plain": [
       "<matplotlib.figure.Figure at 0x119e6316d68>"
      ]
     },
     "metadata": {},
     "output_type": "display_data"
    }
   ],
   "source": [
    "test_size = 300\n",
    "N = 10\n",
    "a = Generate_random_fx_and_train_points(-1,1,N)\n",
    "pla = PLA(a.target,a.X,a.Y,test_size)\n",
    "svm = Hard_margin_svm(a.target,a.X,a.Y,test_size)\n",
    "p = Plot_everything(a.target,a.X,a.Y,pla.w,svm.w,svm.alphas)"
   ]
  },
  {
   "cell_type": "code",
   "execution_count": 43,
   "metadata": {
    "scrolled": true
   },
   "outputs": [
    {
     "name": "stdout",
     "output_type": "stream",
     "text": [
      "SVM E_out was better  59.0 % times\n"
     ]
    }
   ],
   "source": [
    "# task 8\n",
    "N = 10\n",
    "test_size = 300\n",
    "runs = 1000\n",
    "\n",
    "n_svm_e_out_better = 0\n",
    "for i in range(runs):\n",
    "    a = Generate_random_fx_and_train_points(-1,1,N)\n",
    "    pla = PLA(a.target,a.X,a.Y,test_size)\n",
    "    svm = Hard_margin_svm(a.target,a.X,a.Y,test_size)\n",
    "    \n",
    "    if(pla.e_out > svm.e_out):\n",
    "        n_svm_e_out_better+=1\n",
    "print('SVM E_out was better ', n_svm_e_out_better/runs * 100,'% times')"
   ]
  },
  {
   "cell_type": "code",
   "execution_count": 116,
   "metadata": {},
   "outputs": [
    {
     "name": "stdout",
     "output_type": "stream",
     "text": [
      "SVM E_out was better  59.5 % times\n",
      "Average number of support vectors is:  2.996\n"
     ]
    }
   ],
   "source": [
    "# task 9 and 10\n",
    "N = 100\n",
    "test_size = 1000\n",
    "runs = 1000\n",
    "\n",
    "n_svm_e_out_better = 0\n",
    "n_support_vectors = 0\n",
    "for i in range(runs):\n",
    "    a = Generate_random_fx_and_train_points(-1,1,N)\n",
    "    pla = PLA(a.target,a.X,a.Y,test_size)\n",
    "    svm = Hard_margin_svm(a.target,a.X,a.Y,test_size)\n",
    "    \n",
    "    n_support_vectors += svm.support_vectors_num\n",
    "    if(pla.e_out > svm.e_out):\n",
    "        n_svm_e_out_better+=1\n",
    "print('SVM E_out was better ', n_svm_e_out_better/runs * 100,'% times')\n",
    "print('Average number of support vectors is: ',n_support_vectors/runs)"
   ]
  }
 ],
 "metadata": {
  "kernelspec": {
   "display_name": "Python 3",
   "language": "python",
   "name": "python3"
  },
  "language_info": {
   "codemirror_mode": {
    "name": "ipython",
    "version": 3
   },
   "file_extension": ".py",
   "mimetype": "text/x-python",
   "name": "python",
   "nbconvert_exporter": "python",
   "pygments_lexer": "ipython3",
   "version": "3.6.3"
  }
 },
 "nbformat": 4,
 "nbformat_minor": 2
}
