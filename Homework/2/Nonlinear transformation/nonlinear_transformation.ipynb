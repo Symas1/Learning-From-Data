{
 "cells": [
  {
   "cell_type": "code",
   "execution_count": 208,
   "metadata": {
    "collapsed": true
   },
   "outputs": [],
   "source": [
    "import numpy\n",
    "import matplotlib.pyplot"
   ]
  },
  {
   "cell_type": "code",
   "execution_count": 209,
   "metadata": {},
   "outputs": [],
   "source": [
    "class Nonlinear_transformation:\n",
    "    def __init__(self,training_set_size):\n",
    "        self.N=training_set_size\n",
    "        self.generate_training_set()\n",
    "        self.generate_noise()\n",
    "        \n",
    "#         self.linear_regression_no_transformation()\n",
    "#         self.e_in_no_transformation()\n",
    "        \n",
    "        self.transform_training_data()\n",
    "        self.linear_regression_transformation()\n",
    "        self.e_out_transformation()\n",
    "        \n",
    "    def linear_regression_no_transformation(self):\n",
    "        X=[t.T for t in self.x]\n",
    "        X=numpy.reshape(X,(self.N,len(X[0][0])))\n",
    "        X_inv=numpy.linalg.pinv(X)\n",
    "        self.w_no_t=numpy.dot(X_inv,self.y)\n",
    "        \n",
    "    def e_in_no_transformation(self):\n",
    "        incorrect=0\n",
    "        for i in range(self.N):\n",
    "            answer=numpy.sign(numpy.dot(self.w_no_t.T,self.x[i]))\n",
    "            if(answer!=self.y[i]):\n",
    "                incorrect+=1\n",
    "        self.e_in_no_t=incorrect/self.N\n",
    "\n",
    "    def linear_regression_transformation(self):\n",
    "        X=[t.T for t in self.x_t]\n",
    "        X=numpy.reshape(X,(self.N,len(X[0][0])))\n",
    "        X_inv=numpy.linalg.pinv(X)\n",
    "        self.w_t=numpy.dot(X_inv,self.y)\n",
    "    \n",
    "    def transform_training_data(self):\n",
    "        self.x_t=[]\n",
    "        for i in self.x:\n",
    "            self.x_t.append(numpy.array([1,i[1],i[2],(i[1]*i[2]),(i[1]**2),(i[2]**2)],ndmin=2).T)\n",
    "    \n",
    "    def e_out_transformation(self):\n",
    "        points=1000\n",
    "        x=[]\n",
    "        x_t=[]\n",
    "        y=[]\n",
    "        for i in range(points):\n",
    "            x.append(numpy.array([1]+numpy.random.uniform(-1,1,2).tolist(),ndmin=2).T)\n",
    "            x_t.append(numpy.array([1,x[-1][1],x[-1][2],(x[-1][1]*x[-1][2]),(x[-1][1]**2),(x[-1][2]**2)],ndmin=2).T)\n",
    "            y.append(self.target_function(x[-1][1],x[-1][2]))\n",
    "        y=numpy.reshape(y,(points,1))\n",
    "        for i in range (int(points*0.1)):\n",
    "            idx = numpy.random.randint(0,points)\n",
    "            y[idx]=-y[idx]\n",
    "        incorrect=0\n",
    "        for i in range(points):\n",
    "            correct_answer=y[i]\n",
    "            answer = numpy.sign(numpy.dot(self.w_t.T,x_t[i]))\n",
    "            if(answer!=correct_answer):\n",
    "                incorrect+=1\n",
    "        self.e_out_t=incorrect/points\n",
    "        \n",
    "    def target_function(self,x1,x2):\n",
    "        return numpy.sign(x1**2+x2**2-0.6).tolist()\n",
    "    \n",
    "    def generate_training_set(self):\n",
    "        self.x=[]\n",
    "        self.y=[]\n",
    "        for i in range(self.N):\n",
    "            self.x.append(numpy.array([1]+numpy.random.uniform(-1,1,2).tolist(),ndmin=2).T)\n",
    "            self.y.append(self.target_function(self.x[-1][1],self.x[-1][2]))\n",
    "        self.y=numpy.reshape(self.y,(self.N,1))\n",
    "    \n",
    "    def generate_noise(self):\n",
    "        for i in range (int(self.N*0.1)):\n",
    "            idx = numpy.random.randint(0,self.N)\n",
    "            self.y[idx]=-self.y[idx]"
   ]
  },
  {
   "cell_type": "code",
   "execution_count": 90,
   "metadata": {},
   "outputs": [],
   "source": [
    "data_set_size=1000\n",
    "cycles=1000\n",
    "\n",
    "e_in_no_t=0.\n",
    "for i in range(cycles):\n",
    "    a=Nonlinear_transformation(data_set_size)\n",
    "    e_in_no_t+=a.e_in_no_t\n",
    "e_in_no_t/=cycles"
   ]
  },
  {
   "cell_type": "code",
   "execution_count": 91,
   "metadata": {},
   "outputs": [
    {
     "name": "stdout",
     "output_type": "stream",
     "text": [
      "0.5067669999999995\n"
     ]
    }
   ],
   "source": [
    "print(e_in_no_t)"
   ]
  },
  {
   "cell_type": "code",
   "execution_count": 195,
   "metadata": {},
   "outputs": [
    {
     "name": "stdout",
     "output_type": "stream",
     "text": [
      "[ 96.16  66.2   66.39  62.76  55.65]\n"
     ]
    }
   ],
   "source": [
    "def a(x1,x2):\n",
    "    return numpy.sign(-1-0.05*x1+0.08*x2+0.13*x1*x2+1.5*x1**2+1.5*x2**2)\n",
    "def b(x1,x2):\n",
    "    return numpy.sign(-1-0.05*x1+0.08*x2+0.13*x1*x2+1.5*x1**2+15*x2**2)\n",
    "def c(x1,x2):\n",
    "    return numpy.sign(-1-0.05*x1+0.08*x2+0.13*x1*x2+15*x1**2+1.5*x2**2)\n",
    "def d(x1,x2):\n",
    "    return numpy.sign(-1-1.5*x1+0.08*x2+0.13*x1*x2+0.05*x1**2+0.05*x2**2)\n",
    "def e(x1,x2):\n",
    "    return numpy.sign(-1-0.05*x1+0.08*x2+1.5*x1*x2+0.15*x1**2+0.15*x2**2)\n",
    "\n",
    "arr=numpy.zeros(5)\n",
    "runs=100\n",
    "for i in range(runs):\n",
    "   w_t=Nonlinear_transformation(data_set_size).w_t \n",
    "   for j in range(100):\n",
    "        x=numpy.array([1]+numpy.random.uniform(-1,1,2).tolist(),ndmin=2).T\n",
    "        x_t=numpy.array([1,x[1],x[2],(x[1]*x[2]),(x[1]**2),(x[2]**2)],ndmin=2).T\n",
    "        answer = numpy.sign(numpy.dot(w_t.T,x_t))\n",
    "        a_ans = a(x[1],x[2])\n",
    "        b_ans = b(x[1],x[2])\n",
    "        c_ans = c(x[1],x[2])\n",
    "        d_ans = d(x[1],x[2])\n",
    "        e_ans = e(x[1],x[2])\n",
    "        if(answer==a_ans):\n",
    "            arr[0]+=1\n",
    "        if(answer==b_ans):\n",
    "            arr[1]+=1\n",
    "        if(answer==c_ans):\n",
    "            arr[2]+=1\n",
    "        if(answer==d_ans):\n",
    "            arr[3]+=1\n",
    "        if(answer==e_ans):\n",
    "            arr[4]+=1\n",
    "print(arr/runs)"
   ]
  },
  {
   "cell_type": "code",
   "execution_count": 219,
   "metadata": {},
   "outputs": [],
   "source": [
    "def target_function(x1,x2):\n",
    "    return numpy.sign(x1**2+x2**2-0.6).tolist()\n",
    "\n",
    "def e_out_transformation(w_t):\n",
    "    points=1000\n",
    "    x=[]\n",
    "    x_t=[]\n",
    "    y=[]\n",
    "    for i in range(points):\n",
    "        x.append(numpy.array([1]+numpy.random.uniform(-1,1,2).tolist(),ndmin=2).T)\n",
    "        x_t.append(numpy.array([1,x[-1][1],x[-1][2],(x[-1][1]*x[-1][2]),(x[-1][1]**2),(x[-1][2]**2)],ndmin=2).T)\n",
    "        y.append(target_function(x[-1][1],x[-1][2]))\n",
    "    y=numpy.reshape(y,(points,1))\n",
    "    for i in range (int(points*0.1)):\n",
    "        idx = numpy.random.randint(0,points)\n",
    "        y[idx]=-y[idx]\n",
    "    incorrect=0\n",
    "    for i in range(points):\n",
    "        correct_answer=y[i]\n",
    "        answer = numpy.sign(numpy.dot(w_t.T,x_t[i]))\n",
    "        if(answer!=correct_answer):\n",
    "            incorrect+=1\n",
    "    return incorrect/points\n",
    "\n",
    "runs=100\n",
    "e_out_t=0.\n",
    "w_t=Nonlinear_transformation(data_set_size).w_t\n",
    "for i in range(runs):\n",
    "    e_out_t+=e_out_transformation(w_t)\n",
    "e_out_t/=runs"
   ]
  },
  {
   "cell_type": "code",
   "execution_count": 221,
   "metadata": {},
   "outputs": [
    {
     "name": "stdout",
     "output_type": "stream",
     "text": [
      "0.12217000000000003\n"
     ]
    }
   ],
   "source": [
    "print(e_out_t)"
   ]
  }
 ],
 "metadata": {
  "kernelspec": {
   "display_name": "Python 3",
   "language": "python",
   "name": "python3"
  },
  "language_info": {
   "codemirror_mode": {
    "name": "ipython",
    "version": 3
   },
   "file_extension": ".py",
   "mimetype": "text/x-python",
   "name": "python",
   "nbconvert_exporter": "python",
   "pygments_lexer": "ipython3",
   "version": "3.6.3"
  }
 },
 "nbformat": 4,
 "nbformat_minor": 2
}
