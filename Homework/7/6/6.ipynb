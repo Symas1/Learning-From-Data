{
 "cells": [
  {
   "cell_type": "code",
   "execution_count": 4,
   "metadata": {
    "collapsed": true
   },
   "outputs": [],
   "source": [
    "import math\n",
    "import numpy as np"
   ]
  },
  {
   "cell_type": "code",
   "execution_count": 21,
   "metadata": {},
   "outputs": [
    {
     "name": "stdout",
     "output_type": "stream",
     "text": [
      "0.5004647671821341\n",
      "0.5004647671821341\n",
      "0.332584643038\n"
     ]
    }
   ],
   "source": [
    "tests = 100000\n",
    "sum_first = 0\n",
    "sum_second = 0\n",
    "min_val = 0\n",
    "for i in range(tests):\n",
    "    first = np.random.uniform(0,1)\n",
    "    second = np.random.uniform(0,1)\n",
    "    sum_first += first\n",
    "    sum_second += second\n",
    "    min_val += np.minimum(first,second)\n",
    "print(sum_first/tests)\n",
    "print(sum_first/tests)\n",
    "print(min_val/tests)"
   ]
  }
 ],
 "metadata": {
  "kernelspec": {
   "display_name": "Python 3",
   "language": "python",
   "name": "python3"
  },
  "language_info": {
   "codemirror_mode": {
    "name": "ipython",
    "version": 3
   },
   "file_extension": ".py",
   "mimetype": "text/x-python",
   "name": "python",
   "nbconvert_exporter": "python",
   "pygments_lexer": "ipython3",
   "version": "3.6.3"
  }
 },
 "nbformat": 4,
 "nbformat_minor": 2
}
