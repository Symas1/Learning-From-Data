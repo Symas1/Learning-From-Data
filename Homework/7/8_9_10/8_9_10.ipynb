{
 "cells": [
  {
   "cell_type": "code",
   "execution_count": 1,
   "metadata": {
    "collapsed": true
   },
   "outputs": [],
   "source": [
    "import math\n",
    "import numpy as np\n",
    "import matplotlib.pyplot as plt\n",
    "import quadprog"
   ]
  },
  {
   "cell_type": "code",
   "execution_count": 2,
   "metadata": {
    "collapsed": true
   },
   "outputs": [],
   "source": [
    "class Generate_random_fx_and_train_points:\n",
    "    def __init__(self,range_from,range_to,N):\n",
    "        self.range_from = range_from\n",
    "        self.range_to = range_to\n",
    "        self.N = N\n",
    "        self.randomize_fx()\n",
    "        self.randomize_data()\n",
    "        \n",
    "    def randomize_fx(self):\n",
    "        X = np.random.uniform(self.range_from,self.range_to,2)\n",
    "        Y = np.random.uniform(self.range_from,self.range_to,2)\n",
    "        \n",
    "        fit = np.polyfit(X,Y,1)\n",
    "        self.target = np.poly1d(fit)\n",
    "    \n",
    "    def randomize_data(self):\n",
    "        plus = False\n",
    "        minus = False\n",
    "        while(plus == False or minus == False):\n",
    "            plus = False\n",
    "            minus = False\n",
    "            self.X = np.random.uniform(self.range_from,self.range_to,(self.N,2))\n",
    "            self.Y = []\n",
    "            for x in self.X:\n",
    "                y = self.fx(x[0],x[1])\n",
    "                if(y==1):\n",
    "                    plus = True\n",
    "                elif(y==-1):\n",
    "                    minus = True\n",
    "                self.Y.append(y)\n",
    "        self.X = np.hstack((np.ones((len(self.X),1)),self.X))\n",
    "        self.X = [np.array(i,ndmin=2).T for i in self.X]\n",
    "        self.Y = np.reshape(self.Y,(self.N,1))\n",
    "   \n",
    "    def fx(self,x, y):\n",
    "        original_y = self.target(x)\n",
    "        return 1 if original_y < y else -1      "
   ]
  },
  {
   "cell_type": "code",
   "execution_count": 3,
   "metadata": {
    "collapsed": true
   },
   "outputs": [],
   "source": [
    "class PLA:\n",
    "    def __init__(self,fx,X,Y):\n",
    "        self.fx = fx\n",
    "        self.X = X\n",
    "        self.Y = Y\n",
    "        self.w = np.zeros((3,1))\n",
    "        self.train()\n",
    "        self.test_e_out()\n",
    "        \n",
    "    def train(self):\n",
    "        while(True):\n",
    "            all_correct = True\n",
    "            \n",
    "            low = 0\n",
    "            high = len(self.X)\n",
    "\n",
    "            while(low<high):\n",
    "                idx = np.random.randint(low,high)\n",
    "                answer = np.sign(np.dot(self.w.T,self.X[idx]))\n",
    "                if(answer != self.Y[idx]):\n",
    "                    all_correct = False\n",
    "                    self.w+=self.Y[idx]*self.X[idx]\n",
    "                else:\n",
    "                    self.X[low], self.X[idx] = self.X[idx], self.X[low]\n",
    "                    self.Y[[low,idx]]=self.Y[[idx,low]]\n",
    "                    low+=1\n",
    "            \n",
    "            if(all_correct):\n",
    "                break\n",
    "    \n",
    "    def test_e_out(self):\n",
    "        test_size = 1000\n",
    "        X_test = np.random.uniform(-1,1,(test_size, 2))\n",
    "        X_test = np.hstack((np.ones((len(X_test),1)), X_test))\n",
    "        X_test = [np.array(i,ndmin=2).T for i in X_test]\n",
    "        Y_test = [self.target(i[1],i[2]) for i in X_test]\n",
    "        Y_test = np.reshape(Y_test,(len(Y_test),1))\n",
    "\n",
    "        errors=0\n",
    "        for i in range(len(X_test)):\n",
    "            answer = np.sign(np.dot(self.w.T,X_test[i]))\n",
    "            if(answer!=Y_test[i]):\n",
    "                errors+=1\n",
    "        self.e_out = errors / test_size\n",
    "        \n",
    "        \n",
    "    def target(self,x,y):\n",
    "        original_y = self.fx(x)\n",
    "        return 1 if original_y < y else -1"
   ]
  },
  {
   "cell_type": "code",
   "execution_count": 4,
   "metadata": {
    "collapsed": true
   },
   "outputs": [],
   "source": [
    "class Plot_everything:\n",
    "    def __init__(self,target,pla_w,X,Y):\n",
    "        self.target = target\n",
    "        self.pla_w = pla_w\n",
    "        self.X = X\n",
    "        self.Y = Y\n",
    "        self.xs = x = np.linspace(-1,1,100)\n",
    "        \n",
    "        self.plot_target()\n",
    "        self.plot_points()\n",
    "        self.plot_pla()\n",
    "        \n",
    "        plt.legend()\n",
    "        plt.axis([-1,1,-1,1])\n",
    "        plt.show()\n",
    "        \n",
    "    def plot_target(self):\n",
    "        plt.plot(self.xs,[self.target(i) for i in self.xs],label='Target')\n",
    "    \n",
    "    def plot_points(self):\n",
    "        for i in range(len(self.X)):\n",
    "            if(self.Y[i]==1):\n",
    "                plt.plot(self.X[i][1],self.X[i][2],'g.')\n",
    "            elif(a.Y[i]==-1):\n",
    "                plt.plot(self.X[i][1],self.X[i][2],'r.')\n",
    "                \n",
    "    def plot_pla(self):\n",
    "        plt.plot(self.xs,[-self.pla_w[0]/self.pla_w[2] - self.pla_w[1]/self.pla_w[2]*i for i in self.xs],label='PLA')"
   ]
  },
  {
   "cell_type": "code",
   "execution_count": 335,
   "metadata": {
    "collapsed": true
   },
   "outputs": [],
   "source": [
    "class Hard_margin_svm:\n",
    "    def __init__(self,fx,X,Y):\n",
    "        self.fx = fx\n",
    "        self.X = X\n",
    "        self.Y = Y\n",
    "        \n",
    "        self.construct_p()\n",
    "        self.q = np.ones((len(self.Y)))\n",
    "        \n",
    "        self.g = -np.identity(len(self.Y))\n",
    "        self.h = np.zeros((len(self.Y)))\n",
    "        self.construct_a()\n",
    "        self.b = np.zeros(2)\n",
    "        \n",
    "        self.solve()\n",
    "        \n",
    "    def construct_p(self):\n",
    "        self.p = []\n",
    "        for i in range(len(self.X)):\n",
    "            row = []\n",
    "            for j in range(len(self.X)):\n",
    "                row.append((self.Y[i] * self.Y[j] * np.dot(self.X[i].T , self.X[j])).tolist()[0])\n",
    "            self.p.append(row)\n",
    "        self.p = np.reshape(self.p,(len(self.X),len(self.X)))\n",
    "        self.p = np.array(self.p)\n",
    "        \n",
    "    def construct_a(self):      \n",
    "        self.a = self.Y.T.tolist()\n",
    "        self.a.append(np.negative(self.Y.T).tolist()[0])\n",
    "        self.a = np.reshape(self.a,(2,len(self.Y)))\n",
    "    \n",
    "    def solve(self):\n",
    "        qp_G = self.p\n",
    "        qp_a = -self.q\n",
    "        \n",
    "        qp_C = -np.vstack([ self.a , self.g ]).T\n",
    "        qp_b = -np.hstack([self.b , self.h])\n",
    "        meq = self.a.shape[0]\n",
    "    \n",
    "        alphas = quadprog.solve_qp(qp_G, qp_a, qp_C, qp_b, meq)[0]\n",
    "        print(alphas)"
   ]
  },
  {
   "cell_type": "code",
   "execution_count": 320,
   "metadata": {
    "collapsed": true,
    "scrolled": false
   },
   "outputs": [],
   "source": [
    "# a = Generate_random_fx_and_train_points(-1,1,10)\n",
    "# pla = PLA(a.target,a.X,a.Y)\n",
    "# # p = Plot_everything(a.target,pla.w,a.X,a.Y)"
   ]
  },
  {
   "cell_type": "code",
   "execution_count": 341,
   "metadata": {
    "scrolled": false
   },
   "outputs": [
    {
     "name": "stdout",
     "output_type": "stream",
     "text": [
      "[[ 1167.09481972]]\n",
      "[[[1.1670948197214406], [1.2563468541900087], [-0.7684684368410682], [-0.7311961944404931], [-1.0638593869509902]], [[1.2563468541900087], [1.493347619840103], [-0.5454274224889664], [-0.6115409728302489], [-0.9433441090479039]], [[-0.7684684368410682], [-0.5454274224889664], [1.4194878251316025], [1.3487074236147363], [1.0650505184206254]], [[-0.7311961944404931], [-0.6115409728302489], [1.3487074236147363], [1.4381411448480514], [0.8603060054526653]], [[-1.0638593869509902], [-0.9433441090479039], [1.0650505184206254], [0.8603060054526653], [1.2633140283564441]]]\n",
      "[[ 1.16709482  1.25634685 -0.76846844 -0.73119619 -1.06385939]\n",
      " [ 1.25634685  1.49334762 -0.54542742 -0.61154097 -0.94334411]\n",
      " [-0.76846844 -0.54542742  1.41948783  1.34870742  1.06505052]\n",
      " [-0.73119619 -0.61154097  1.34870742  1.43814114  0.86030601]\n",
      " [-1.06385939 -0.94334411  1.06505052  0.86030601  1.26331403]]\n"
     ]
    },
    {
     "ename": "ValueError",
     "evalue": "matrix G is not positive definite",
     "output_type": "error",
     "traceback": [
      "\u001b[1;31m---------------------------------------------------------------------------\u001b[0m",
      "\u001b[1;31mValueError\u001b[0m                                Traceback (most recent call last)",
      "\u001b[1;32m<ipython-input-341-1b60c9f926df>\u001b[0m in \u001b[0;36m<module>\u001b[1;34m()\u001b[0m\n\u001b[0;32m      1\u001b[0m \u001b[0ma\u001b[0m \u001b[1;33m=\u001b[0m \u001b[0mGenerate_random_fx_and_train_points\u001b[0m\u001b[1;33m(\u001b[0m\u001b[1;33m-\u001b[0m\u001b[1;36m1\u001b[0m\u001b[1;33m,\u001b[0m\u001b[1;36m1\u001b[0m\u001b[1;33m,\u001b[0m\u001b[1;36m5\u001b[0m\u001b[1;33m)\u001b[0m\u001b[1;33m\u001b[0m\u001b[0m\n\u001b[0;32m      2\u001b[0m \u001b[0mprint\u001b[0m\u001b[1;33m(\u001b[0m\u001b[0mnp\u001b[0m\u001b[1;33m.\u001b[0m\u001b[0mdot\u001b[0m\u001b[1;33m(\u001b[0m\u001b[0ma\u001b[0m\u001b[1;33m.\u001b[0m\u001b[0mX\u001b[0m\u001b[1;33m[\u001b[0m\u001b[1;36m0\u001b[0m\u001b[1;33m]\u001b[0m\u001b[1;33m.\u001b[0m\u001b[0mT\u001b[0m\u001b[1;33m,\u001b[0m\u001b[0ma\u001b[0m\u001b[1;33m.\u001b[0m\u001b[0mX\u001b[0m\u001b[1;33m[\u001b[0m\u001b[1;36m0\u001b[0m\u001b[1;33m]\u001b[0m\u001b[1;33m)\u001b[0m\u001b[1;33m*\u001b[0m\u001b[1;36m1000\u001b[0m\u001b[1;33m)\u001b[0m\u001b[1;33m\u001b[0m\u001b[0m\n\u001b[1;32m----> 3\u001b[1;33m \u001b[0msvm\u001b[0m \u001b[1;33m=\u001b[0m \u001b[0mHard_margin_svm\u001b[0m\u001b[1;33m(\u001b[0m\u001b[0ma\u001b[0m\u001b[1;33m.\u001b[0m\u001b[0mtarget\u001b[0m\u001b[1;33m,\u001b[0m\u001b[0ma\u001b[0m\u001b[1;33m.\u001b[0m\u001b[0mX\u001b[0m\u001b[1;33m,\u001b[0m\u001b[0ma\u001b[0m\u001b[1;33m.\u001b[0m\u001b[0mY\u001b[0m\u001b[1;33m)\u001b[0m\u001b[1;33m\u001b[0m\u001b[0m\n\u001b[0m",
      "\u001b[1;32m<ipython-input-335-96595e5cdb06>\u001b[0m in \u001b[0;36m__init__\u001b[1;34m(self, fx, X, Y)\u001b[0m\n\u001b[0;32m     13\u001b[0m         \u001b[0mself\u001b[0m\u001b[1;33m.\u001b[0m\u001b[0mb\u001b[0m \u001b[1;33m=\u001b[0m \u001b[0mnp\u001b[0m\u001b[1;33m.\u001b[0m\u001b[0mzeros\u001b[0m\u001b[1;33m(\u001b[0m\u001b[1;36m2\u001b[0m\u001b[1;33m)\u001b[0m\u001b[1;33m\u001b[0m\u001b[0m\n\u001b[0;32m     14\u001b[0m \u001b[1;33m\u001b[0m\u001b[0m\n\u001b[1;32m---> 15\u001b[1;33m         \u001b[0mself\u001b[0m\u001b[1;33m.\u001b[0m\u001b[0msolve\u001b[0m\u001b[1;33m(\u001b[0m\u001b[1;33m)\u001b[0m\u001b[1;33m\u001b[0m\u001b[0m\n\u001b[0m\u001b[0;32m     16\u001b[0m \u001b[1;33m\u001b[0m\u001b[0m\n\u001b[0;32m     17\u001b[0m     \u001b[1;32mdef\u001b[0m \u001b[0mconstruct_p\u001b[0m\u001b[1;33m(\u001b[0m\u001b[0mself\u001b[0m\u001b[1;33m)\u001b[0m\u001b[1;33m:\u001b[0m\u001b[1;33m\u001b[0m\u001b[0m\n",
      "\u001b[1;32m<ipython-input-335-96595e5cdb06>\u001b[0m in \u001b[0;36msolve\u001b[1;34m(self)\u001b[0m\n\u001b[0;32m     40\u001b[0m         \u001b[0mmeq\u001b[0m \u001b[1;33m=\u001b[0m \u001b[0mself\u001b[0m\u001b[1;33m.\u001b[0m\u001b[0ma\u001b[0m\u001b[1;33m.\u001b[0m\u001b[0mshape\u001b[0m\u001b[1;33m[\u001b[0m\u001b[1;36m0\u001b[0m\u001b[1;33m]\u001b[0m\u001b[1;33m\u001b[0m\u001b[0m\n\u001b[0;32m     41\u001b[0m \u001b[1;33m\u001b[0m\u001b[0m\n\u001b[1;32m---> 42\u001b[1;33m         \u001b[0malphas\u001b[0m \u001b[1;33m=\u001b[0m \u001b[0mquadprog\u001b[0m\u001b[1;33m.\u001b[0m\u001b[0msolve_qp\u001b[0m\u001b[1;33m(\u001b[0m\u001b[0mqp_G\u001b[0m\u001b[1;33m,\u001b[0m \u001b[0mqp_a\u001b[0m\u001b[1;33m,\u001b[0m \u001b[0mqp_C\u001b[0m\u001b[1;33m,\u001b[0m \u001b[0mqp_b\u001b[0m\u001b[1;33m,\u001b[0m \u001b[0mmeq\u001b[0m\u001b[1;33m)\u001b[0m\u001b[1;33m[\u001b[0m\u001b[1;36m0\u001b[0m\u001b[1;33m]\u001b[0m\u001b[1;33m\u001b[0m\u001b[0m\n\u001b[0m\u001b[0;32m     43\u001b[0m         \u001b[0mprint\u001b[0m\u001b[1;33m(\u001b[0m\u001b[0malphas\u001b[0m\u001b[1;33m)\u001b[0m\u001b[1;33m\u001b[0m\u001b[0m\n",
      "\u001b[1;32mquadprog\\quadprog.pyx\u001b[0m in \u001b[0;36mquadprog.solve_qp (quadprog/quadprog.cpp:3005)\u001b[1;34m()\u001b[0m\n",
      "\u001b[1;31mValueError\u001b[0m: matrix G is not positive definite"
     ]
    }
   ],
   "source": [
    "a = Generate_random_fx_and_train_points(-1,1,5)\n",
    "print(np.dot(a.X[0].T,a.X[0])*1000)\n",
    "svm = Hard_margin_svm(a.target,a.X,a.Y)"
   ]
  }
 ],
 "metadata": {
  "kernelspec": {
   "display_name": "Python 3",
   "language": "python",
   "name": "python3"
  },
  "language_info": {
   "codemirror_mode": {
    "name": "ipython",
    "version": 3
   },
   "file_extension": ".py",
   "mimetype": "text/x-python",
   "name": "python",
   "nbconvert_exporter": "python",
   "pygments_lexer": "ipython3",
   "version": "3.6.3"
  }
 },
 "nbformat": 4,
 "nbformat_minor": 2
}
