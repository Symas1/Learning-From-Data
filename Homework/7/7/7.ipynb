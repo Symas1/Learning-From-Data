{
 "cells": [
  {
   "cell_type": "code",
   "execution_count": 2,
   "metadata": {
    "collapsed": true
   },
   "outputs": [],
   "source": [
    "import numpy as np\n",
    "import math\n",
    "import matplotlib.pyplot as plt\n",
    "from sklearn.utils import shuffle"
   ]
  },
  {
   "cell_type": "code",
   "execution_count": 3,
   "metadata": {
    "collapsed": true
   },
   "outputs": [],
   "source": [
    "total_points = 3"
   ]
  },
  {
   "cell_type": "code",
   "execution_count": 67,
   "metadata": {
    "collapsed": true
   },
   "outputs": [],
   "source": [
    "def linear_reg_b(X,Y):\n",
    "    X = np.ones((len(X),1))\n",
    "    X_inv = np.linalg.pinv(X)\n",
    "    return np.dot(X_inv,Y)\n",
    "\n",
    "def cross_val_b(X,Y):\n",
    "    X, Y = shuffle(X, Y, random_state=0)\n",
    "    total_error = 0\n",
    "    for i in range (len(X)):\n",
    "        erase_x = X[i]\n",
    "        erase_y = Y[i][0]\n",
    "        del X[i]\n",
    "        Y = np.delete(Y,i,0)\n",
    "        \n",
    "        w = linear_reg_b(X,Y)\n",
    "        total_error += math.pow(w-erase_y,2)\n",
    "        \n",
    "        X.insert(i,np.array(erase_x,ndmin=2).T)\n",
    "        Y = np.reshape(np.insert(Y,i,erase_y),(total_points,1))\n",
    "    return total_error/total_points"
   ]
  },
  {
   "cell_type": "code",
   "execution_count": 68,
   "metadata": {
    "collapsed": true
   },
   "outputs": [],
   "source": [
    "def linear_reg_ax_b(X,Y):\n",
    "    X = np.reshape(X,(len(X),1))\n",
    "    X = np.hstack((np.ones((len(X),1)),X))\n",
    "    X_inv = np.linalg.pinv(X)\n",
    "    return np.dot(X_inv,Y)\n",
    "\n",
    "def cross_val_ax_b(X,Y):\n",
    "    X, Y = shuffle(X, Y, random_state=0)\n",
    "    total_error = 0\n",
    "    for i in range (len(X)):\n",
    "        erase_x = X[i]\n",
    "        erase_y = Y[i][0]\n",
    "        del X[i]\n",
    "        Y = np.delete(Y,i,0)\n",
    "        \n",
    "        w = linear_reg_ax_b(X,Y)\n",
    "        total_error += math.pow((-w[0]-w[1]*erase_x)-erase_y,2)\n",
    "        \n",
    "        X.insert(i,np.array(erase_x,ndmin=2).T)\n",
    "        Y = np.reshape(np.insert(Y,i,erase_y),(total_points,1))\n",
    "    return total_error/total_points"
   ]
  },
  {
   "cell_type": "code",
   "execution_count": 69,
   "metadata": {
    "scrolled": true
   },
   "outputs": [
    {
     "name": "stdout",
     "output_type": "stream",
     "text": [
      "CV 'b':  0.49999999999999983\n",
      "CV 'ax+b':  1.1350433676859415\n",
      "CV 'b':  0.49999999999999983\n",
      "CV 'ax+b':  64.66494840795211\n",
      "CV 'b':  0.49999999999999983\n",
      "CV 'ax+b':  0.49999999999999994\n",
      "CV 'b':  0.49999999999999983\n",
      "CV 'ax+b':  0.986883929330547\n"
     ]
    }
   ],
   "source": [
    "ro_list = [math.sqrt(math.sqrt(3)+4), math.sqrt(math.sqrt(3)-1), math.sqrt(9 + 4* math.sqrt(6)), math.sqrt(9 - math.sqrt(6))]\n",
    "for ro in ro_list:\n",
    "    X = [np.array([-1],ndmin=2).T, np.array([ro],ndmin=2).T,np.array([1],ndmin=2).T]\n",
    "    Y = np.reshape([0,1,0],(total_points,1))\n",
    "    print(\"CV 'b': \", cross_val_b(X,Y))\n",
    "    print(\"CV 'ax+b': \",cross_val_ax_b(X,Y))\n",
    "# for i in range (total_points):\n",
    "#     plt.plot(X[i][0],Y[i][0],'g.')\n",
    "# plt.show()\n",
    "\n",
    "# print(Y)\n",
    "# Y = np.delete(Y,1,0)\n",
    "# print(Y)\n",
    "# Y = np.insert(Y,1,5)\n",
    "# print(Y)"
   ]
  }
 ],
 "metadata": {
  "kernelspec": {
   "display_name": "Python 3",
   "language": "python",
   "name": "python3"
  },
  "language_info": {
   "codemirror_mode": {
    "name": "ipython",
    "version": 3
   },
   "file_extension": ".py",
   "mimetype": "text/x-python",
   "name": "python",
   "nbconvert_exporter": "python",
   "pygments_lexer": "ipython3",
   "version": "3.6.3"
  }
 },
 "nbformat": 4,
 "nbformat_minor": 2
}
