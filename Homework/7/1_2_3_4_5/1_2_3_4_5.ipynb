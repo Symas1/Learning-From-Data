{
 "cells": [
  {
   "cell_type": "code",
   "execution_count": 141,
   "metadata": {
    "collapsed": true
   },
   "outputs": [],
   "source": [
    "import numpy as np\n",
    "import math\n",
    "import matplotlib.pyplot"
   ]
  },
  {
   "cell_type": "code",
   "execution_count": 142,
   "metadata": {},
   "outputs": [],
   "source": [
    "def read_file(file_name,n_train):\n",
    "    d_train = []\n",
    "    y_train = []\n",
    "    d_cv = []\n",
    "    y_cv = []\n",
    "    with open(file_name,'r') as ins:\n",
    "        for line in ins:\n",
    "            curr_line = list(map(float,line.split()))\n",
    "            d_train.append(np.array([1]+curr_line[:2],ndmin=2).T)\n",
    "            y_train.append(curr_line[-1])\n",
    "        ins.close()\n",
    "        y_train = np.reshape(y_train,(len(y_train),1))\n",
    "    d_cv = d_train[n_train:]\n",
    "    y_cv = y_train[n_train:]\n",
    "    d_train = d_train[:n_train]\n",
    "    y_train = y_train[:n_train]\n",
    "    if(n_train!=0):\n",
    "        return d_train,y_train,d_cv,y_cv\n",
    "    else:\n",
    "        return d_cv,y_cv"
   ]
  },
  {
   "cell_type": "code",
   "execution_count": 143,
   "metadata": {},
   "outputs": [],
   "source": [
    "def linear_regression_no_reg(X,Y):\n",
    "    X_inv = np.linalg.pinv(X)\n",
    "    return np.dot(X_inv,Y)\n",
    "\n",
    "def e_out_cv(d_cv,y_cv,w):\n",
    "    errors = 0\n",
    "    for i in range(len(d_cv)):\n",
    "        y_test = np.sign(np.dot(w.T,d_cv[i]))\n",
    "        if(y_test!=y_cv[i]):\n",
    "            errors+=1\n",
    "    return errors / len(d_cv)"
   ]
  },
  {
   "cell_type": "code",
   "execution_count": 144,
   "metadata": {},
   "outputs": [],
   "source": [
    "def nonlinear_transform_k(X,k):\n",
    "    X_res = []\n",
    "    for x in X:\n",
    "        transformed = []\n",
    "        i = x.T.tolist()[0]\n",
    "        if(k>=0):\n",
    "            transformed.append(i[0])\n",
    "        if(k>=1):\n",
    "            transformed.append(i[1])\n",
    "        if(k>=2):\n",
    "            transformed.append(i[2])\n",
    "        if(k>=3):\n",
    "            transformed.append(i[1]**2)\n",
    "        if(k>=4):\n",
    "            transformed.append(i[2]**2)\n",
    "        if(k>=5):\n",
    "            transformed.append(i[1]*i[2])\n",
    "        if(k>=6):\n",
    "            transformed.append(math.fabs(i[1]-i[2]))    \n",
    "        if(k>=7):\n",
    "            transformed.append(math.fabs(i[1]+i[2]))\n",
    "        X_res.append(np.array(transformed,ndmin=2).T)\n",
    "    return X_res"
   ]
  },
  {
   "cell_type": "code",
   "execution_count": 145,
   "metadata": {
    "collapsed": true
   },
   "outputs": [],
   "source": [
    "n_train = 25\n",
    "n_cv = 10\n",
    "d_train, y_train, d_cv, y_cv = read_file('in.txt',n_train)\n",
    "\n",
    "out_X, out_Y = read_file('out.txt',0)"
   ]
  },
  {
   "cell_type": "code",
   "execution_count": 146,
   "metadata": {},
   "outputs": [
    {
     "name": "stdout",
     "output_type": "stream",
     "text": [
      "i:  0 e_out_cv:  0.4\n",
      "i:  1 e_out_cv:  0.5\n",
      "i:  2 e_out_cv:  0.7\n",
      "i:  3 e_out_cv:  0.3\n",
      "i:  4 e_out_cv:  0.5\n",
      "i:  5 e_out_cv:  0.2\n",
      "i:  6 e_out_cv:  0.0\n",
      "i:  7 e_out_cv:  0.1\n"
     ]
    }
   ],
   "source": [
    "# (1)\n",
    "W = []\n",
    "for i in range(0,8):\n",
    "    w = linear_regression_no_reg(np.reshape(nonlinear_transform_k(d_train,i),(n_train,i+1)),y_train)\n",
    "    W.append(w)\n",
    "    e = e_out_cv(nonlinear_transform_k(d_cv,i),y_cv,w)\n",
    "    print('i: ',i,'e_out_cv: ',e)"
   ]
  },
  {
   "cell_type": "code",
   "execution_count": 147,
   "metadata": {},
   "outputs": [
    {
     "name": "stdout",
     "output_type": "stream",
     "text": [
      "i:  0 e_out:  0.472\n",
      "i:  1 e_out:  0.488\n",
      "i:  2 e_out:  0.648\n",
      "i:  3 e_out:  0.42\n",
      "i:  4 e_out:  0.416\n",
      "i:  5 e_out:  0.188\n",
      "i:  6 e_out:  0.084\n",
      "i:  7 e_out:  0.072\n"
     ]
    }
   ],
   "source": [
    "# (2)\n",
    "for i in range(0,8):\n",
    "    e = e_out_cv(nonlinear_transform_k(out_X,i),out_Y,W[i])\n",
    "    print('i: ',i,'e_out: ',e)"
   ]
  },
  {
   "cell_type": "code",
   "execution_count": 149,
   "metadata": {
    "scrolled": true
   },
   "outputs": [
    {
     "name": "stdout",
     "output_type": "stream",
     "text": [
      "i:  0 e_out_cv:  0.44\n",
      "i:  1 e_out_cv:  0.44\n",
      "i:  2 e_out_cv:  0.44\n",
      "i:  3 e_out_cv:  0.28\n",
      "i:  4 e_out_cv:  0.36\n",
      "i:  5 e_out_cv:  0.2\n",
      "i:  6 e_out_cv:  0.08\n",
      "i:  7 e_out_cv:  0.12\n"
     ]
    }
   ],
   "source": [
    "# (3)\n",
    "W2 = []\n",
    "for i in range(0,8):\n",
    "    w = linear_regression_no_reg(np.reshape(nonlinear_transform_k(d_cv,i),(n_cv,i+1)),y_cv)\n",
    "    W2.append(w)\n",
    "    e = e_out_cv(nonlinear_transform_k(d_train,i),y_train,w)\n",
    "    print('i: ',i,'e_out_cv: ',e)"
   ]
  },
  {
   "cell_type": "code",
   "execution_count": 150,
   "metadata": {},
   "outputs": [
    {
     "name": "stdout",
     "output_type": "stream",
     "text": [
      "i:  0 e_out:  0.472\n",
      "i:  1 e_out:  0.472\n",
      "i:  2 e_out:  0.5\n",
      "i:  3 e_out:  0.396\n",
      "i:  4 e_out:  0.388\n",
      "i:  5 e_out:  0.284\n",
      "i:  6 e_out:  0.192\n",
      "i:  7 e_out:  0.196\n"
     ]
    }
   ],
   "source": [
    "# (4)\n",
    "for i in range(0,8):\n",
    "    e = e_out_cv(nonlinear_transform_k(out_X,i),out_Y,W2[i])\n",
    "    print('i: ',i,'e_out: ',e)"
   ]
  }
 ],
 "metadata": {
  "kernelspec": {
   "display_name": "Python 3",
   "language": "python",
   "name": "python3"
  },
  "language_info": {
   "codemirror_mode": {
    "name": "ipython",
    "version": 3
   },
   "file_extension": ".py",
   "mimetype": "text/x-python",
   "name": "python",
   "nbconvert_exporter": "python",
   "pygments_lexer": "ipython3",
   "version": "3.6.3"
  }
 },
 "nbformat": 4,
 "nbformat_minor": 2
}
