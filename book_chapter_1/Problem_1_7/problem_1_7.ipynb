{
 "cells": [
  {
   "cell_type": "code",
   "execution_count": 1,
   "metadata": {
    "collapsed": true
   },
   "outputs": [],
   "source": [
    "import numpy"
   ]
  },
  {
   "cell_type": "code",
   "execution_count": 7,
   "metadata": {},
   "outputs": [
    {
     "name": "stdout",
     "output_type": "stream",
     "text": [
      "0.5987369392383787\n",
      "1.0\n",
      "1.0\n",
      "1.0239999999999978e-07\n",
      "0.00010239476257623004\n",
      "0.09733159268316072\n"
     ]
    }
   ],
   "source": [
    "nu=0.05\n",
    "print((1-nu)**10)\n",
    "print(1-(1-(1-nu)**10)**1000)\n",
    "print(1-(1-(1-nu)**10)**1000000)\n",
    "\n",
    "nu=0.8\n",
    "print((1-nu)**10)\n",
    "print(1-(1-(1-nu)**10)**1000)\n",
    "print(1-(1-(1-nu)**10)**1000000)"
   ]
  }
 ],
 "metadata": {
  "kernelspec": {
   "display_name": "Python 3",
   "language": "python",
   "name": "python3"
  },
  "language_info": {
   "codemirror_mode": {
    "name": "ipython",
    "version": 3
   },
   "file_extension": ".py",
   "mimetype": "text/x-python",
   "name": "python",
   "nbconvert_exporter": "python",
   "pygments_lexer": "ipython3",
   "version": "3.6.3"
  }
 },
 "nbformat": 4,
 "nbformat_minor": 2
}
