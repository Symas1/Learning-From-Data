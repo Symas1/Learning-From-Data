{
 "cells": [
  {
   "cell_type": "code",
   "execution_count": 7,
   "metadata": {
    "collapsed": true
   },
   "outputs": [],
   "source": [
    "import numpy\n",
    "import scipy.misc"
   ]
  },
  {
   "cell_type": "code",
   "execution_count": null,
   "metadata": {
    "collapsed": true
   },
   "outputs": [],
   "source": [
    "# red marble u 0.05 0.5 0.8"
   ]
  },
  {
   "cell_type": "code",
   "execution_count": 4,
   "metadata": {},
   "outputs": [
    {
     "name": "stdout",
     "output_type": "stream",
     "text": [
      "0.5987369392383787\n",
      "0.0009765625\n",
      "1.0240000000000006e-07\n"
     ]
    }
   ],
   "source": [
    "#  chance of zero red in one sample on 10\n",
    "first = 0.95**10\n",
    "print(first)\n",
    "second = 0.5**10\n",
    "print(second)\n",
    "third = 0.2**10\n",
    "print(third)"
   ]
  },
  {
   "cell_type": "code",
   "execution_count": 16,
   "metadata": {},
   "outputs": [
    {
     "name": "stdout",
     "output_type": "stream",
     "text": [
      "1.0\n",
      "0.623576201943276\n",
      "0.00010239476257623004\n"
     ]
    }
   ],
   "source": [
    "# chance that at least one of 1000 samples has 0 reds\n",
    "samples=1000\n",
    "print(1-(1-0.95**10)**samples)\n",
    "print(1-(1-0.5**10)**samples)\n",
    "print(1-(1-0.2**10)**samples)"
   ]
  },
  {
   "cell_type": "code",
   "execution_count": 17,
   "metadata": {},
   "outputs": [
    {
     "name": "stdout",
     "output_type": "stream",
     "text": [
      "1.0\n",
      "1.0\n",
      "0.09733159268316072\n"
     ]
    }
   ],
   "source": [
    "samples=1000000\n",
    "print(1-(1-0.95**10)**samples)\n",
    "print(1-(1-0.5**10)**samples)\n",
    "print(1-(1-0.2**10)**samples)"
   ]
  }
 ],
 "metadata": {
  "kernelspec": {
   "display_name": "Python 3",
   "language": "python",
   "name": "python3"
  },
  "language_info": {
   "codemirror_mode": {
    "name": "ipython",
    "version": 3
   },
   "file_extension": ".py",
   "mimetype": "text/x-python",
   "name": "python",
   "nbconvert_exporter": "python",
   "pygments_lexer": "ipython3",
   "version": "3.6.3"
  }
 },
 "nbformat": 4,
 "nbformat_minor": 2
}
